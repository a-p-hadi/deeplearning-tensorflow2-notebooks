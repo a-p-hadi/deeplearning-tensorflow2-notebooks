{
 "cells": [
  {
   "cell_type": "markdown",
   "metadata": {},
   "source": [
    "<center><div style=\"direction:rtl;font-family:B Lotus, B Nazanin, Tahoma\">به نام خدا</div></center>\n",
    "\n",
    "<h1><center><div style=\"direction:rtl;font-family:B Lotus, B Nazanin, Tahoma\">تمرین عملی 1: طبقه بندی با شبکه های تمام متصل روی مجموعه داده IRIS</div></center></h1>"
   ]
  },
  {
   "cell_type": "markdown",
   "metadata": {},
   "source": [
    "## <div style=\"direction:rtl;text-align:right;font-family:B Lotus, B Nazanin, Tahoma\">صورت مساله</div>\n",
    "\n",
    "\n",
    "<div style=\"direction:rtl;text-align:right;font-family:Tahoma\">\n",
    "در اولین جلسه کارگاه طبقه بندی با شبکه های تمام متصل را دیدیم.\n",
    "<br>\n",
    "توصیه می‌شود حتما نوت بوک‌های زیر را قبل از این تمرین مرور کنید:\n",
    "</div>\n",
    "\n",
    "[04_a Gentle Introduction to Keras - Simple neural network(mlp).ipynb](https://nbviewer.jupyter.org/github/alireza-akhavan/SRU-deeplearning-workshop/blob/master/04_a%20Gentle%20Introduction%20to%20Keras%20-%20Simple%20neural%20network%28mlp%29.ipynb)\n",
    "\n",
    "[05_Dropout.ipynb](https://nbviewer.jupyter.org/github/alireza-akhavan/SRU-deeplearning-workshop/blob/master/05_Dropout.ipynb)\n",
    "\n",
    "<div style=\"direction:rtl;text-align:right;font-family:Tahoma\">\n",
    "در این جلسه با داده های تصویری آشنا شدیم. اما در این تمرین برای اینکه بدانیم کاربرد این مباحث در مسائل غیر تصویری نیز هست  از مجموعه داده ی ساختار یافتهiris  شامل 4 ویژگی برای طول و عرض کاسبرگ و گلبرگ استفاده خواهیم کرد که بتوانیم بر اساس این ویژگی ها نوع گل را از 3 کلاس متفاوت تشخیص دهیم.\n",
    "</div>"
   ]
  },
  {
   "cell_type": "markdown",
   "metadata": {},
   "source": [
    "## <div style=\"direction:rtl;text-align:right;font-family:B Lotus, B Nazanin, Tahoma\">لود کتابخانه های مورد نیاز </div>\n",
    "<div style=\"direction:rtl;text-align:right;font-family:Tahoma\">\n",
    "کتابخانه های مورد نیاز این تمرین لود شده اند\n",
    "<br>\n",
    "در صورت نیاز میتوانید کتابخانه های بیشتری لود کنید:\n",
    "</div>"
   ]
  },
  {
   "cell_type": "code",
   "execution_count": 2,
   "metadata": {},
   "outputs": [],
   "source": [
    "import warnings\n",
    "warnings.filterwarnings('ignore')"
   ]
  },
  {
   "cell_type": "code",
   "execution_count": 3,
   "metadata": {},
   "outputs": [],
   "source": [
    "import numpy as np\n",
    "from tensorflow import keras\n",
    "from sklearn.datasets import load_iris\n",
    "from sklearn.model_selection import train_test_split\n",
    "from keras.models import Sequential\n",
    "from keras.layers import Dense, Dropout\n",
    "from tensorflow.keras.optimizers import Adam"
   ]
  },
  {
   "cell_type": "markdown",
   "metadata": {},
   "source": [
    "<div style=\"direction:rtl;text-align:right;font-family:Tahoma\">\n",
    "در این تمرین میخواهیم از مجموعه داده iris استفاده کنیم.\n",
    "<br>\n",
    "توضیحات این مجموعه داده در سایت آن موجود است:\n",
    "</div>\n",
    "\n",
    "https://archive.ics.uci.edu/ml/datasets/iris\n",
    "\n",
    "\n",
    "<div style=\"direction:rtl;text-align:right;font-family:Tahoma\">\n",
    "ویژگی ها و کلاس های این مجموعه داده به شرح زیر است:\n",
    "</div>\n",
    "\n",
    "Attribute Information:\n",
    "\n",
    "1. sepal length in cm\n",
    "2. sepal width in cm\n",
    "3. petal length in cm\n",
    "4. petal width in cm\n",
    "\n",
    "class:\n",
    "\n",
    "    Iris Setosa\n",
    "    Iris Versicolour\n",
    "    Iris Virginica\n",
    "\n",
    "<div style=\"direction:rtl;text-align:right;font-family:Tahoma\">\n",
    "این دیتاست در کتابخانه sklearn موجود است\n",
    "<br>\n",
    "در قطعه کد زیر ویژگی ها را در x و برچسب یا labelهای متناظر را در y لود شده است.\n",
    "</div>"
   ]
  },
  {
   "cell_type": "code",
   "execution_count": 4,
   "metadata": {},
   "outputs": [],
   "source": [
    "iris_data = load_iris() # load the iris dataset\n",
    "x = iris_data.data\n",
    "y = iris_data.target.reshape(-1, 1) # Convert data to a single column"
   ]
  },
  {
   "cell_type": "code",
   "execution_count": 5,
   "metadata": {},
   "outputs": [
    {
     "data": {
      "text/plain": [
       "(150, 4)"
      ]
     },
     "execution_count": 5,
     "metadata": {},
     "output_type": "execute_result"
    }
   ],
   "source": [
    "x.shape"
   ]
  },
  {
   "cell_type": "code",
   "execution_count": 6,
   "metadata": {},
   "outputs": [
    {
     "data": {
      "text/plain": [
       "(150, 1)"
      ]
     },
     "execution_count": 6,
     "metadata": {},
     "output_type": "execute_result"
    }
   ],
   "source": [
    "y.shape"
   ]
  },
  {
   "cell_type": "markdown",
   "metadata": {},
   "source": [
    "# <div style=\"direction:rtl;text-align:right;font-family:B Lotus, B Nazanin, Tahoma\">سوال 1:</div>\n",
    "<div style=\"direction:rtl;text-align:right;font-family:Tahoma\">\n",
    "برچسب یا label های ما در حال حاضر عددی است.\n",
    "<br>\n",
    "این اعداد 0 تا 2 هستند و به عبارتی 3 حالت مختلف دارند.\n",
    "<br>\n",
    "این برچسب ها را به فرمت one-hot تبدیل کنید و خروجی را مجدد در y بریزید.\n",
    "\n",
    "<br>\n",
    "<b>راهنمایی: </b>\n",
    "از تابع keras.utils.to_categorical استفاده کنید.\n",
    "</div>"
   ]
  },
  {
   "cell_type": "code",
   "execution_count": 7,
   "metadata": {},
   "outputs": [],
   "source": [
    "y = keras.utils.to_categorical(y, num_classes=3)\n",
    "assert y.shape == (150, 3)"
   ]
  },
  {
   "cell_type": "markdown",
   "metadata": {},
   "source": [
    "<div style=\"direction:rtl;text-align:right;font-family:Tahoma\">\n",
    "در زیر داده ها  به داده های test و train تقسیم شده است:\n",
    "</div>"
   ]
  },
  {
   "cell_type": "code",
   "execution_count": 8,
   "metadata": {},
   "outputs": [],
   "source": [
    "# Split the data for training and testing\n",
    "train_x, test_x, train_y, test_y = train_test_split(x, y, test_size=0.20)"
   ]
  },
  {
   "cell_type": "markdown",
   "metadata": {},
   "source": [
    "# <div style=\"direction:rtl;text-align:right;font-family:B Lotus, B Nazanin, Tahoma\">سوال 2:</div>\n",
    "<div style=\"direction:rtl;text-align:right;font-family:Tahoma\">\n",
    "یک شبکه با دو hidden-layer در هر لایه 10 نوران و تابع فعالیت relu بسازید. یک لایه Dropout با نرخ 0.5 در لایه آخر ماقبل softmax نیز اضافه کنید.\n",
    "</div>"
   ]
  },
  {
   "cell_type": "code",
   "execution_count": 9,
   "metadata": {},
   "outputs": [],
   "source": [
    "# Build the model\n",
    "model = Sequential()\n",
    "model.add(Dense(10, activation='relu', input_dim=4))\n",
    "model.add(Dropout(0.2))\n",
    "model.add(Dense(10, activation='relu'))\n",
    "model.add(Dropout(0.2))\n",
    "model.add(Dense(3, activation='softmax'))"
   ]
  },
  {
   "cell_type": "code",
   "execution_count": 10,
   "metadata": {},
   "outputs": [
    {
     "name": "stdout",
     "output_type": "stream",
     "text": [
      "Model: \"sequential\"\n",
      "_________________________________________________________________\n",
      " Layer (type)                Output Shape              Param #   \n",
      "=================================================================\n",
      " dense (Dense)               (None, 10)                50        \n",
      "                                                                 \n",
      " dropout (Dropout)           (None, 10)                0         \n",
      "                                                                 \n",
      " dense_1 (Dense)             (None, 10)                110       \n",
      "                                                                 \n",
      " dropout_1 (Dropout)         (None, 10)                0         \n",
      "                                                                 \n",
      " dense_2 (Dense)             (None, 3)                 33        \n",
      "                                                                 \n",
      "=================================================================\n",
      "Total params: 193 (772.00 Byte)\n",
      "Trainable params: 193 (772.00 Byte)\n",
      "Non-trainable params: 0 (0.00 Byte)\n",
      "_________________________________________________________________\n"
     ]
    }
   ],
   "source": [
    "model.summary()"
   ]
  },
  {
   "cell_type": "markdown",
   "metadata": {},
   "source": [
    "<div style=\"direction:rtl;text-align:right;font-family:Tahoma\">در زیر مدل کامپایل شده است.</div>"
   ]
  },
  {
   "cell_type": "code",
   "execution_count": 11,
   "metadata": {},
   "outputs": [],
   "source": [
    "# Adam optimizer with learning rate of 0.001\n",
    "optimizer = Adam(learning_rate=0.001)\n",
    "model.compile(optimizer, loss='categorical_crossentropy', metrics=['accuracy'])"
   ]
  },
  {
   "cell_type": "markdown",
   "metadata": {},
   "source": [
    "# <div style=\"direction:rtl;text-align:right;font-family:B Lotus, B Nazanin, Tahoma\">سوال 3:</div>\n",
    "<div style=\"direction:rtl;text-align:right;font-family:Tahoma\">\n",
    "مدل را با  batch_size=5 و تعداد 200 ایپاک آموزش دهید.\n",
    "<br>\n",
    "<b>راهنمایی: </b>\n",
    "از تابع model.fit استفاده کنید.\n",
    "</div>"
   ]
  },
  {
   "cell_type": "code",
   "execution_count": 12,
   "metadata": {},
   "outputs": [
    {
     "name": "stdout",
     "output_type": "stream",
     "text": [
      "Epoch 1/200\n",
      "20/20 [==============================] - 1s 11ms/step - loss: 1.4497 - accuracy: 0.3542 - val_loss: 1.1783 - val_accuracy: 0.3750\n",
      "Epoch 2/200\n",
      "20/20 [==============================] - 0s 3ms/step - loss: 1.3603 - accuracy: 0.3229 - val_loss: 1.1190 - val_accuracy: 0.3750\n",
      "Epoch 3/200\n",
      "20/20 [==============================] - 0s 3ms/step - loss: 1.3489 - accuracy: 0.2500 - val_loss: 1.0962 - val_accuracy: 0.3333\n",
      "Epoch 4/200\n",
      "20/20 [==============================] - 0s 3ms/step - loss: 1.2188 - accuracy: 0.3438 - val_loss: 1.0698 - val_accuracy: 0.3333\n",
      "Epoch 5/200\n",
      "20/20 [==============================] - 0s 3ms/step - loss: 1.1510 - accuracy: 0.3542 - val_loss: 1.0487 - val_accuracy: 0.2500\n",
      "Epoch 6/200\n",
      "20/20 [==============================] - 0s 3ms/step - loss: 1.1615 - accuracy: 0.3438 - val_loss: 1.0235 - val_accuracy: 0.1667\n",
      "Epoch 7/200\n",
      "20/20 [==============================] - 0s 4ms/step - loss: 1.1401 - accuracy: 0.3125 - val_loss: 0.9923 - val_accuracy: 0.1667\n",
      "Epoch 8/200\n",
      "20/20 [==============================] - 0s 3ms/step - loss: 1.1185 - accuracy: 0.2917 - val_loss: 0.9554 - val_accuracy: 0.5417\n",
      "Epoch 9/200\n",
      "20/20 [==============================] - 0s 3ms/step - loss: 1.0293 - accuracy: 0.3958 - val_loss: 0.9184 - val_accuracy: 0.5833\n",
      "Epoch 10/200\n",
      "20/20 [==============================] - 0s 3ms/step - loss: 1.0029 - accuracy: 0.4167 - val_loss: 0.8919 - val_accuracy: 0.5417\n",
      "Epoch 11/200\n",
      "20/20 [==============================] - 0s 3ms/step - loss: 0.9611 - accuracy: 0.3958 - val_loss: 0.8681 - val_accuracy: 0.5417\n",
      "Epoch 12/200\n",
      "20/20 [==============================] - 0s 3ms/step - loss: 0.9376 - accuracy: 0.3958 - val_loss: 0.8233 - val_accuracy: 0.5833\n",
      "Epoch 13/200\n",
      "20/20 [==============================] - 0s 3ms/step - loss: 0.8221 - accuracy: 0.4896 - val_loss: 0.7661 - val_accuracy: 0.5833\n",
      "Epoch 14/200\n",
      "20/20 [==============================] - 0s 3ms/step - loss: 0.7901 - accuracy: 0.5938 - val_loss: 0.7254 - val_accuracy: 0.5833\n",
      "Epoch 15/200\n",
      "20/20 [==============================] - 0s 3ms/step - loss: 0.8337 - accuracy: 0.5312 - val_loss: 0.7027 - val_accuracy: 0.5833\n",
      "Epoch 16/200\n",
      "20/20 [==============================] - 0s 3ms/step - loss: 0.7870 - accuracy: 0.5625 - val_loss: 0.6791 - val_accuracy: 0.5833\n",
      "Epoch 17/200\n",
      "20/20 [==============================] - 0s 3ms/step - loss: 0.7482 - accuracy: 0.5208 - val_loss: 0.6552 - val_accuracy: 0.5833\n",
      "Epoch 18/200\n",
      "20/20 [==============================] - 0s 3ms/step - loss: 0.6861 - accuracy: 0.6250 - val_loss: 0.6340 - val_accuracy: 0.5833\n",
      "Epoch 19/200\n",
      "20/20 [==============================] - 0s 3ms/step - loss: 0.7206 - accuracy: 0.5312 - val_loss: 0.6170 - val_accuracy: 0.5833\n",
      "Epoch 20/200\n",
      "20/20 [==============================] - 0s 3ms/step - loss: 0.7625 - accuracy: 0.5833 - val_loss: 0.5981 - val_accuracy: 0.5833\n",
      "Epoch 21/200\n",
      "20/20 [==============================] - 0s 3ms/step - loss: 0.6699 - accuracy: 0.6250 - val_loss: 0.5856 - val_accuracy: 0.5833\n",
      "Epoch 22/200\n",
      "20/20 [==============================] - 0s 3ms/step - loss: 0.6668 - accuracy: 0.6146 - val_loss: 0.5714 - val_accuracy: 0.5833\n",
      "Epoch 23/200\n",
      "20/20 [==============================] - 0s 3ms/step - loss: 0.6483 - accuracy: 0.6042 - val_loss: 0.5600 - val_accuracy: 0.5833\n",
      "Epoch 24/200\n",
      "20/20 [==============================] - 0s 3ms/step - loss: 0.7185 - accuracy: 0.5312 - val_loss: 0.5519 - val_accuracy: 0.5833\n",
      "Epoch 25/200\n",
      "20/20 [==============================] - 0s 3ms/step - loss: 0.6268 - accuracy: 0.6146 - val_loss: 0.5415 - val_accuracy: 0.5833\n",
      "Epoch 26/200\n",
      "20/20 [==============================] - 0s 3ms/step - loss: 0.6749 - accuracy: 0.6354 - val_loss: 0.5269 - val_accuracy: 0.5833\n",
      "Epoch 27/200\n",
      "20/20 [==============================] - 0s 3ms/step - loss: 0.6606 - accuracy: 0.6458 - val_loss: 0.5158 - val_accuracy: 0.5833\n",
      "Epoch 28/200\n",
      "20/20 [==============================] - 0s 3ms/step - loss: 0.6846 - accuracy: 0.6146 - val_loss: 0.5059 - val_accuracy: 0.6667\n",
      "Epoch 29/200\n",
      "20/20 [==============================] - 0s 3ms/step - loss: 0.7011 - accuracy: 0.6250 - val_loss: 0.4998 - val_accuracy: 0.6667\n",
      "Epoch 30/200\n",
      "20/20 [==============================] - 0s 3ms/step - loss: 0.6773 - accuracy: 0.6771 - val_loss: 0.4949 - val_accuracy: 0.6667\n",
      "Epoch 31/200\n",
      "20/20 [==============================] - 0s 3ms/step - loss: 0.6508 - accuracy: 0.6458 - val_loss: 0.4905 - val_accuracy: 0.6250\n",
      "Epoch 32/200\n",
      "20/20 [==============================] - 0s 3ms/step - loss: 0.6604 - accuracy: 0.6458 - val_loss: 0.4851 - val_accuracy: 0.6250\n",
      "Epoch 33/200\n",
      "20/20 [==============================] - 0s 3ms/step - loss: 0.6449 - accuracy: 0.6354 - val_loss: 0.4788 - val_accuracy: 0.6667\n",
      "Epoch 34/200\n",
      "20/20 [==============================] - 0s 3ms/step - loss: 0.5970 - accuracy: 0.6875 - val_loss: 0.4696 - val_accuracy: 0.6667\n",
      "Epoch 35/200\n",
      "20/20 [==============================] - 0s 3ms/step - loss: 0.6490 - accuracy: 0.6250 - val_loss: 0.4651 - val_accuracy: 0.6667\n",
      "Epoch 36/200\n",
      "20/20 [==============================] - 0s 3ms/step - loss: 0.6265 - accuracy: 0.6354 - val_loss: 0.4599 - val_accuracy: 0.6667\n",
      "Epoch 37/200\n",
      "20/20 [==============================] - 0s 3ms/step - loss: 0.5486 - accuracy: 0.7188 - val_loss: 0.4515 - val_accuracy: 0.7500\n",
      "Epoch 38/200\n",
      "20/20 [==============================] - 0s 3ms/step - loss: 0.6092 - accuracy: 0.6354 - val_loss: 0.4434 - val_accuracy: 0.8750\n",
      "Epoch 39/200\n",
      "20/20 [==============================] - 0s 3ms/step - loss: 0.6498 - accuracy: 0.6667 - val_loss: 0.4409 - val_accuracy: 0.8750\n",
      "Epoch 40/200\n",
      "20/20 [==============================] - 0s 3ms/step - loss: 0.6324 - accuracy: 0.6667 - val_loss: 0.4365 - val_accuracy: 0.8333\n",
      "Epoch 41/200\n",
      "20/20 [==============================] - 0s 3ms/step - loss: 0.6044 - accuracy: 0.6875 - val_loss: 0.4310 - val_accuracy: 0.8750\n",
      "Epoch 42/200\n",
      "20/20 [==============================] - 0s 3ms/step - loss: 0.5708 - accuracy: 0.7292 - val_loss: 0.4305 - val_accuracy: 0.8333\n",
      "Epoch 43/200\n",
      "20/20 [==============================] - 0s 3ms/step - loss: 0.5882 - accuracy: 0.7396 - val_loss: 0.4177 - val_accuracy: 0.9167\n",
      "Epoch 44/200\n",
      "20/20 [==============================] - 0s 3ms/step - loss: 0.5795 - accuracy: 0.7812 - val_loss: 0.4116 - val_accuracy: 0.8750\n",
      "Epoch 45/200\n",
      "20/20 [==============================] - 0s 3ms/step - loss: 0.5966 - accuracy: 0.6354 - val_loss: 0.4087 - val_accuracy: 0.8750\n",
      "Epoch 46/200\n",
      "20/20 [==============================] - 0s 3ms/step - loss: 0.5862 - accuracy: 0.6979 - val_loss: 0.4061 - val_accuracy: 0.8750\n",
      "Epoch 47/200\n",
      "20/20 [==============================] - 0s 3ms/step - loss: 0.5669 - accuracy: 0.7500 - val_loss: 0.4036 - val_accuracy: 0.8750\n",
      "Epoch 48/200\n",
      "20/20 [==============================] - 0s 3ms/step - loss: 0.6246 - accuracy: 0.6667 - val_loss: 0.3988 - val_accuracy: 0.8750\n",
      "Epoch 49/200\n",
      "20/20 [==============================] - 0s 3ms/step - loss: 0.5139 - accuracy: 0.7292 - val_loss: 0.3951 - val_accuracy: 0.8750\n",
      "Epoch 50/200\n",
      "20/20 [==============================] - 0s 3ms/step - loss: 0.5818 - accuracy: 0.6667 - val_loss: 0.3914 - val_accuracy: 0.8750\n",
      "Epoch 51/200\n",
      "20/20 [==============================] - 0s 3ms/step - loss: 0.6012 - accuracy: 0.6667 - val_loss: 0.3839 - val_accuracy: 1.0000\n",
      "Epoch 52/200\n",
      "20/20 [==============================] - 0s 3ms/step - loss: 0.5997 - accuracy: 0.7083 - val_loss: 0.3794 - val_accuracy: 0.9167\n",
      "Epoch 53/200\n",
      "20/20 [==============================] - 0s 3ms/step - loss: 0.5943 - accuracy: 0.7292 - val_loss: 0.3787 - val_accuracy: 0.9167\n",
      "Epoch 54/200\n",
      "20/20 [==============================] - 0s 3ms/step - loss: 0.5679 - accuracy: 0.7396 - val_loss: 0.3753 - val_accuracy: 0.9167\n",
      "Epoch 55/200\n",
      "20/20 [==============================] - 0s 4ms/step - loss: 0.5071 - accuracy: 0.8021 - val_loss: 0.3664 - val_accuracy: 0.9167\n",
      "Epoch 56/200\n",
      "20/20 [==============================] - 0s 3ms/step - loss: 0.4811 - accuracy: 0.7396 - val_loss: 0.3506 - val_accuracy: 0.9167\n",
      "Epoch 57/200\n",
      "20/20 [==============================] - 0s 3ms/step - loss: 0.5929 - accuracy: 0.6458 - val_loss: 0.3411 - val_accuracy: 0.8750\n",
      "Epoch 58/200\n",
      "20/20 [==============================] - 0s 3ms/step - loss: 0.5234 - accuracy: 0.7188 - val_loss: 0.3158 - val_accuracy: 1.0000\n",
      "Epoch 59/200\n",
      "20/20 [==============================] - 0s 3ms/step - loss: 0.5017 - accuracy: 0.7917 - val_loss: 0.2913 - val_accuracy: 1.0000\n",
      "Epoch 60/200\n",
      "20/20 [==============================] - 0s 3ms/step - loss: 0.4921 - accuracy: 0.7708 - val_loss: 0.2690 - val_accuracy: 1.0000\n",
      "Epoch 61/200\n",
      "20/20 [==============================] - 0s 3ms/step - loss: 0.5650 - accuracy: 0.7083 - val_loss: 0.2600 - val_accuracy: 1.0000\n",
      "Epoch 62/200\n",
      "20/20 [==============================] - 0s 3ms/step - loss: 0.5197 - accuracy: 0.7083 - val_loss: 0.2575 - val_accuracy: 1.0000\n",
      "Epoch 63/200\n",
      "20/20 [==============================] - 0s 3ms/step - loss: 0.4779 - accuracy: 0.7708 - val_loss: 0.2553 - val_accuracy: 1.0000\n",
      "Epoch 64/200\n",
      "20/20 [==============================] - 0s 3ms/step - loss: 0.4608 - accuracy: 0.7812 - val_loss: 0.2431 - val_accuracy: 0.9583\n",
      "Epoch 65/200\n",
      "20/20 [==============================] - 0s 3ms/step - loss: 0.4706 - accuracy: 0.7708 - val_loss: 0.2412 - val_accuracy: 1.0000\n",
      "Epoch 66/200\n",
      "20/20 [==============================] - 0s 3ms/step - loss: 0.4405 - accuracy: 0.7812 - val_loss: 0.2427 - val_accuracy: 1.0000\n",
      "Epoch 67/200\n",
      "20/20 [==============================] - 0s 3ms/step - loss: 0.5110 - accuracy: 0.7604 - val_loss: 0.2372 - val_accuracy: 1.0000\n",
      "Epoch 68/200\n",
      "20/20 [==============================] - 0s 3ms/step - loss: 0.4671 - accuracy: 0.7604 - val_loss: 0.2420 - val_accuracy: 1.0000\n",
      "Epoch 69/200\n",
      "20/20 [==============================] - 0s 3ms/step - loss: 0.4445 - accuracy: 0.7708 - val_loss: 0.2327 - val_accuracy: 1.0000\n",
      "Epoch 70/200\n",
      "20/20 [==============================] - 0s 3ms/step - loss: 0.4674 - accuracy: 0.7292 - val_loss: 0.2258 - val_accuracy: 0.9167\n",
      "Epoch 71/200\n",
      "20/20 [==============================] - 0s 3ms/step - loss: 0.4660 - accuracy: 0.8021 - val_loss: 0.2291 - val_accuracy: 1.0000\n",
      "Epoch 72/200\n",
      "20/20 [==============================] - 0s 3ms/step - loss: 0.4618 - accuracy: 0.7917 - val_loss: 0.2287 - val_accuracy: 1.0000\n",
      "Epoch 73/200\n",
      "20/20 [==============================] - 0s 3ms/step - loss: 0.4402 - accuracy: 0.7604 - val_loss: 0.2176 - val_accuracy: 1.0000\n",
      "Epoch 74/200\n",
      "20/20 [==============================] - 0s 3ms/step - loss: 0.4568 - accuracy: 0.8125 - val_loss: 0.2142 - val_accuracy: 1.0000\n",
      "Epoch 75/200\n",
      "20/20 [==============================] - 0s 3ms/step - loss: 0.3917 - accuracy: 0.7917 - val_loss: 0.2124 - val_accuracy: 1.0000\n",
      "Epoch 76/200\n",
      "20/20 [==============================] - 0s 3ms/step - loss: 0.4861 - accuracy: 0.7708 - val_loss: 0.2095 - val_accuracy: 1.0000\n",
      "Epoch 77/200\n",
      "20/20 [==============================] - 0s 3ms/step - loss: 0.4428 - accuracy: 0.8125 - val_loss: 0.2054 - val_accuracy: 0.9583\n",
      "Epoch 78/200\n",
      "20/20 [==============================] - 0s 3ms/step - loss: 0.4553 - accuracy: 0.7500 - val_loss: 0.2039 - val_accuracy: 1.0000\n",
      "Epoch 79/200\n",
      "20/20 [==============================] - 0s 3ms/step - loss: 0.4373 - accuracy: 0.7604 - val_loss: 0.2045 - val_accuracy: 1.0000\n",
      "Epoch 80/200\n",
      "20/20 [==============================] - 0s 3ms/step - loss: 0.4566 - accuracy: 0.7812 - val_loss: 0.2014 - val_accuracy: 1.0000\n",
      "Epoch 81/200\n",
      "20/20 [==============================] - 0s 3ms/step - loss: 0.3962 - accuracy: 0.8542 - val_loss: 0.2020 - val_accuracy: 1.0000\n",
      "Epoch 82/200\n",
      "20/20 [==============================] - 0s 3ms/step - loss: 0.4085 - accuracy: 0.8542 - val_loss: 0.2005 - val_accuracy: 1.0000\n",
      "Epoch 83/200\n",
      "20/20 [==============================] - 0s 3ms/step - loss: 0.4078 - accuracy: 0.8438 - val_loss: 0.1909 - val_accuracy: 1.0000\n",
      "Epoch 84/200\n",
      "20/20 [==============================] - 0s 3ms/step - loss: 0.3821 - accuracy: 0.8021 - val_loss: 0.1892 - val_accuracy: 1.0000\n",
      "Epoch 85/200\n",
      "20/20 [==============================] - 0s 3ms/step - loss: 0.5277 - accuracy: 0.7188 - val_loss: 0.1932 - val_accuracy: 1.0000\n",
      "Epoch 86/200\n",
      "20/20 [==============================] - 0s 3ms/step - loss: 0.4032 - accuracy: 0.8438 - val_loss: 0.1953 - val_accuracy: 1.0000\n",
      "Epoch 87/200\n",
      "20/20 [==============================] - 0s 3ms/step - loss: 0.4169 - accuracy: 0.7812 - val_loss: 0.1905 - val_accuracy: 1.0000\n",
      "Epoch 88/200\n",
      "20/20 [==============================] - 0s 3ms/step - loss: 0.4121 - accuracy: 0.8542 - val_loss: 0.1859 - val_accuracy: 1.0000\n",
      "Epoch 89/200\n",
      "20/20 [==============================] - 0s 3ms/step - loss: 0.4577 - accuracy: 0.8229 - val_loss: 0.1811 - val_accuracy: 1.0000\n",
      "Epoch 90/200\n",
      "20/20 [==============================] - 0s 3ms/step - loss: 0.3561 - accuracy: 0.8542 - val_loss: 0.1762 - val_accuracy: 1.0000\n",
      "Epoch 91/200\n",
      "20/20 [==============================] - 0s 3ms/step - loss: 0.3678 - accuracy: 0.8333 - val_loss: 0.1735 - val_accuracy: 1.0000\n",
      "Epoch 92/200\n",
      "20/20 [==============================] - 0s 4ms/step - loss: 0.4240 - accuracy: 0.8021 - val_loss: 0.1725 - val_accuracy: 1.0000\n",
      "Epoch 93/200\n",
      "20/20 [==============================] - 0s 3ms/step - loss: 0.4971 - accuracy: 0.7292 - val_loss: 0.1794 - val_accuracy: 1.0000\n",
      "Epoch 94/200\n",
      "20/20 [==============================] - 0s 3ms/step - loss: 0.3437 - accuracy: 0.8854 - val_loss: 0.1786 - val_accuracy: 1.0000\n",
      "Epoch 95/200\n",
      "20/20 [==============================] - 0s 3ms/step - loss: 0.4041 - accuracy: 0.8438 - val_loss: 0.1737 - val_accuracy: 1.0000\n",
      "Epoch 96/200\n",
      "20/20 [==============================] - 0s 3ms/step - loss: 0.3575 - accuracy: 0.8333 - val_loss: 0.1683 - val_accuracy: 1.0000\n",
      "Epoch 97/200\n",
      "20/20 [==============================] - 0s 3ms/step - loss: 0.3447 - accuracy: 0.8854 - val_loss: 0.1649 - val_accuracy: 1.0000\n",
      "Epoch 98/200\n",
      "20/20 [==============================] - 0s 3ms/step - loss: 0.4105 - accuracy: 0.8125 - val_loss: 0.1622 - val_accuracy: 1.0000\n",
      "Epoch 99/200\n",
      "20/20 [==============================] - 0s 3ms/step - loss: 0.4108 - accuracy: 0.8021 - val_loss: 0.1602 - val_accuracy: 1.0000\n",
      "Epoch 100/200\n",
      "20/20 [==============================] - 0s 3ms/step - loss: 0.3230 - accuracy: 0.9062 - val_loss: 0.1575 - val_accuracy: 1.0000\n",
      "Epoch 101/200\n",
      "20/20 [==============================] - 0s 3ms/step - loss: 0.4606 - accuracy: 0.7500 - val_loss: 0.1575 - val_accuracy: 1.0000\n",
      "Epoch 102/200\n",
      "20/20 [==============================] - 0s 3ms/step - loss: 0.3737 - accuracy: 0.8229 - val_loss: 0.1568 - val_accuracy: 1.0000\n",
      "Epoch 103/200\n",
      "20/20 [==============================] - 0s 3ms/step - loss: 0.4005 - accuracy: 0.7812 - val_loss: 0.1575 - val_accuracy: 1.0000\n",
      "Epoch 104/200\n",
      "20/20 [==============================] - 0s 3ms/step - loss: 0.3390 - accuracy: 0.8646 - val_loss: 0.1547 - val_accuracy: 1.0000\n",
      "Epoch 105/200\n",
      "20/20 [==============================] - 0s 3ms/step - loss: 0.3836 - accuracy: 0.8021 - val_loss: 0.1538 - val_accuracy: 1.0000\n",
      "Epoch 106/200\n",
      "20/20 [==============================] - 0s 3ms/step - loss: 0.3864 - accuracy: 0.8021 - val_loss: 0.1527 - val_accuracy: 1.0000\n",
      "Epoch 107/200\n",
      "20/20 [==============================] - 0s 3ms/step - loss: 0.3560 - accuracy: 0.8021 - val_loss: 0.1615 - val_accuracy: 0.9583\n",
      "Epoch 108/200\n",
      "20/20 [==============================] - 0s 3ms/step - loss: 0.3162 - accuracy: 0.8542 - val_loss: 0.1527 - val_accuracy: 1.0000\n",
      "Epoch 109/200\n",
      "20/20 [==============================] - 0s 3ms/step - loss: 0.4141 - accuracy: 0.7708 - val_loss: 0.1491 - val_accuracy: 1.0000\n",
      "Epoch 110/200\n",
      "20/20 [==============================] - 0s 3ms/step - loss: 0.3977 - accuracy: 0.7812 - val_loss: 0.1490 - val_accuracy: 1.0000\n",
      "Epoch 111/200\n",
      "20/20 [==============================] - 0s 3ms/step - loss: 0.3877 - accuracy: 0.8021 - val_loss: 0.1489 - val_accuracy: 1.0000\n",
      "Epoch 112/200\n",
      "20/20 [==============================] - 0s 3ms/step - loss: 0.4627 - accuracy: 0.7917 - val_loss: 0.1501 - val_accuracy: 1.0000\n",
      "Epoch 113/200\n",
      "20/20 [==============================] - 0s 3ms/step - loss: 0.3470 - accuracy: 0.8333 - val_loss: 0.1451 - val_accuracy: 1.0000\n",
      "Epoch 114/200\n",
      "20/20 [==============================] - 0s 3ms/step - loss: 0.4823 - accuracy: 0.7500 - val_loss: 0.1539 - val_accuracy: 0.9167\n",
      "Epoch 115/200\n",
      "20/20 [==============================] - 0s 3ms/step - loss: 0.3291 - accuracy: 0.8542 - val_loss: 0.1449 - val_accuracy: 1.0000\n",
      "Epoch 116/200\n",
      "20/20 [==============================] - 0s 3ms/step - loss: 0.3610 - accuracy: 0.8021 - val_loss: 0.1444 - val_accuracy: 1.0000\n",
      "Epoch 117/200\n",
      "20/20 [==============================] - 0s 3ms/step - loss: 0.3688 - accuracy: 0.8333 - val_loss: 0.1396 - val_accuracy: 1.0000\n",
      "Epoch 118/200\n",
      "20/20 [==============================] - 0s 3ms/step - loss: 0.3267 - accuracy: 0.8542 - val_loss: 0.1427 - val_accuracy: 1.0000\n",
      "Epoch 119/200\n",
      "20/20 [==============================] - 0s 3ms/step - loss: 0.3391 - accuracy: 0.8646 - val_loss: 0.1358 - val_accuracy: 1.0000\n",
      "Epoch 120/200\n",
      "20/20 [==============================] - 0s 3ms/step - loss: 0.3430 - accuracy: 0.8438 - val_loss: 0.1355 - val_accuracy: 1.0000\n",
      "Epoch 121/200\n",
      "20/20 [==============================] - 0s 3ms/step - loss: 0.3853 - accuracy: 0.7917 - val_loss: 0.1340 - val_accuracy: 1.0000\n",
      "Epoch 122/200\n",
      "20/20 [==============================] - 0s 4ms/step - loss: 0.3090 - accuracy: 0.8646 - val_loss: 0.1316 - val_accuracy: 1.0000\n",
      "Epoch 123/200\n",
      "20/20 [==============================] - 0s 3ms/step - loss: 0.3949 - accuracy: 0.7812 - val_loss: 0.1342 - val_accuracy: 1.0000\n",
      "Epoch 124/200\n",
      "20/20 [==============================] - 0s 3ms/step - loss: 0.4429 - accuracy: 0.7917 - val_loss: 0.1346 - val_accuracy: 1.0000\n",
      "Epoch 125/200\n",
      "20/20 [==============================] - 0s 3ms/step - loss: 0.4521 - accuracy: 0.7396 - val_loss: 0.1390 - val_accuracy: 1.0000\n",
      "Epoch 126/200\n",
      "20/20 [==============================] - 0s 3ms/step - loss: 0.4811 - accuracy: 0.7604 - val_loss: 0.1435 - val_accuracy: 1.0000\n",
      "Epoch 127/200\n",
      "20/20 [==============================] - 0s 3ms/step - loss: 0.3689 - accuracy: 0.8229 - val_loss: 0.1448 - val_accuracy: 1.0000\n",
      "Epoch 128/200\n",
      "20/20 [==============================] - 0s 3ms/step - loss: 0.3510 - accuracy: 0.8542 - val_loss: 0.1391 - val_accuracy: 1.0000\n",
      "Epoch 129/200\n",
      "20/20 [==============================] - 0s 3ms/step - loss: 0.3499 - accuracy: 0.8438 - val_loss: 0.1363 - val_accuracy: 1.0000\n",
      "Epoch 130/200\n",
      "20/20 [==============================] - 0s 3ms/step - loss: 0.3792 - accuracy: 0.8438 - val_loss: 0.1364 - val_accuracy: 1.0000\n",
      "Epoch 131/200\n",
      "20/20 [==============================] - 0s 3ms/step - loss: 0.3203 - accuracy: 0.8333 - val_loss: 0.1340 - val_accuracy: 1.0000\n",
      "Epoch 132/200\n",
      "20/20 [==============================] - 0s 3ms/step - loss: 0.3755 - accuracy: 0.8021 - val_loss: 0.1292 - val_accuracy: 1.0000\n",
      "Epoch 133/200\n",
      "20/20 [==============================] - 0s 3ms/step - loss: 0.3985 - accuracy: 0.8333 - val_loss: 0.1327 - val_accuracy: 1.0000\n",
      "Epoch 134/200\n",
      "20/20 [==============================] - 0s 3ms/step - loss: 0.4095 - accuracy: 0.8229 - val_loss: 0.1308 - val_accuracy: 1.0000\n",
      "Epoch 135/200\n",
      "20/20 [==============================] - 0s 3ms/step - loss: 0.3648 - accuracy: 0.8542 - val_loss: 0.1296 - val_accuracy: 1.0000\n",
      "Epoch 136/200\n",
      "20/20 [==============================] - 0s 3ms/step - loss: 0.2838 - accuracy: 0.8958 - val_loss: 0.1276 - val_accuracy: 1.0000\n",
      "Epoch 137/200\n",
      "20/20 [==============================] - 0s 3ms/step - loss: 0.4099 - accuracy: 0.8125 - val_loss: 0.1283 - val_accuracy: 1.0000\n",
      "Epoch 138/200\n",
      "20/20 [==============================] - 0s 3ms/step - loss: 0.3702 - accuracy: 0.8542 - val_loss: 0.1239 - val_accuracy: 1.0000\n",
      "Epoch 139/200\n",
      "20/20 [==============================] - 0s 3ms/step - loss: 0.3427 - accuracy: 0.8333 - val_loss: 0.1219 - val_accuracy: 1.0000\n",
      "Epoch 140/200\n",
      "20/20 [==============================] - 0s 3ms/step - loss: 0.2883 - accuracy: 0.9062 - val_loss: 0.1212 - val_accuracy: 1.0000\n",
      "Epoch 141/200\n",
      "20/20 [==============================] - 0s 3ms/step - loss: 0.3009 - accuracy: 0.8750 - val_loss: 0.1210 - val_accuracy: 1.0000\n",
      "Epoch 142/200\n",
      "20/20 [==============================] - 0s 3ms/step - loss: 0.3015 - accuracy: 0.8438 - val_loss: 0.1188 - val_accuracy: 1.0000\n",
      "Epoch 143/200\n",
      "20/20 [==============================] - 0s 3ms/step - loss: 0.3700 - accuracy: 0.8542 - val_loss: 0.1183 - val_accuracy: 1.0000\n",
      "Epoch 144/200\n",
      "20/20 [==============================] - 0s 3ms/step - loss: 0.3527 - accuracy: 0.8750 - val_loss: 0.1187 - val_accuracy: 1.0000\n",
      "Epoch 145/200\n",
      "20/20 [==============================] - 0s 3ms/step - loss: 0.3190 - accuracy: 0.8438 - val_loss: 0.1217 - val_accuracy: 1.0000\n",
      "Epoch 146/200\n",
      "20/20 [==============================] - 0s 3ms/step - loss: 0.3596 - accuracy: 0.8438 - val_loss: 0.1194 - val_accuracy: 1.0000\n",
      "Epoch 147/200\n",
      "20/20 [==============================] - 0s 3ms/step - loss: 0.3127 - accuracy: 0.8750 - val_loss: 0.1158 - val_accuracy: 1.0000\n",
      "Epoch 148/200\n",
      "20/20 [==============================] - 0s 3ms/step - loss: 0.3666 - accuracy: 0.8229 - val_loss: 0.1140 - val_accuracy: 1.0000\n",
      "Epoch 149/200\n",
      "20/20 [==============================] - 0s 3ms/step - loss: 0.3565 - accuracy: 0.8229 - val_loss: 0.1162 - val_accuracy: 1.0000\n",
      "Epoch 150/200\n",
      "20/20 [==============================] - 0s 3ms/step - loss: 0.3705 - accuracy: 0.8438 - val_loss: 0.1158 - val_accuracy: 1.0000\n",
      "Epoch 151/200\n",
      "20/20 [==============================] - 0s 3ms/step - loss: 0.3213 - accuracy: 0.8333 - val_loss: 0.1205 - val_accuracy: 1.0000\n",
      "Epoch 152/200\n",
      "20/20 [==============================] - 0s 3ms/step - loss: 0.3349 - accuracy: 0.8646 - val_loss: 0.1265 - val_accuracy: 1.0000\n",
      "Epoch 153/200\n",
      "20/20 [==============================] - 0s 3ms/step - loss: 0.3167 - accuracy: 0.8646 - val_loss: 0.1155 - val_accuracy: 1.0000\n",
      "Epoch 154/200\n",
      "20/20 [==============================] - 0s 3ms/step - loss: 0.2912 - accuracy: 0.8958 - val_loss: 0.1090 - val_accuracy: 1.0000\n",
      "Epoch 155/200\n",
      "20/20 [==============================] - 0s 3ms/step - loss: 0.2629 - accuracy: 0.8646 - val_loss: 0.1102 - val_accuracy: 1.0000\n",
      "Epoch 156/200\n",
      "20/20 [==============================] - 0s 3ms/step - loss: 0.3303 - accuracy: 0.8438 - val_loss: 0.1108 - val_accuracy: 1.0000\n",
      "Epoch 157/200\n",
      "20/20 [==============================] - 0s 3ms/step - loss: 0.3271 - accuracy: 0.8229 - val_loss: 0.1068 - val_accuracy: 1.0000\n",
      "Epoch 158/200\n",
      "20/20 [==============================] - 0s 3ms/step - loss: 0.3400 - accuracy: 0.8333 - val_loss: 0.1077 - val_accuracy: 1.0000\n",
      "Epoch 159/200\n",
      "20/20 [==============================] - 0s 3ms/step - loss: 0.3091 - accuracy: 0.8438 - val_loss: 0.1049 - val_accuracy: 1.0000\n",
      "Epoch 160/200\n",
      "20/20 [==============================] - 0s 3ms/step - loss: 0.3162 - accuracy: 0.8542 - val_loss: 0.1090 - val_accuracy: 1.0000\n",
      "Epoch 161/200\n",
      "20/20 [==============================] - 0s 3ms/step - loss: 0.3149 - accuracy: 0.8542 - val_loss: 0.1067 - val_accuracy: 1.0000\n",
      "Epoch 162/200\n",
      "20/20 [==============================] - 0s 3ms/step - loss: 0.2951 - accuracy: 0.8438 - val_loss: 0.1095 - val_accuracy: 1.0000\n",
      "Epoch 163/200\n",
      "20/20 [==============================] - 0s 3ms/step - loss: 0.2572 - accuracy: 0.8750 - val_loss: 0.1076 - val_accuracy: 1.0000\n",
      "Epoch 164/200\n",
      "20/20 [==============================] - 0s 3ms/step - loss: 0.2708 - accuracy: 0.8750 - val_loss: 0.1102 - val_accuracy: 1.0000\n",
      "Epoch 165/200\n",
      "20/20 [==============================] - 0s 3ms/step - loss: 0.3676 - accuracy: 0.7917 - val_loss: 0.1054 - val_accuracy: 1.0000\n",
      "Epoch 166/200\n",
      "20/20 [==============================] - 0s 3ms/step - loss: 0.3089 - accuracy: 0.8646 - val_loss: 0.1029 - val_accuracy: 1.0000\n",
      "Epoch 167/200\n",
      "20/20 [==============================] - 0s 3ms/step - loss: 0.3649 - accuracy: 0.8646 - val_loss: 0.1047 - val_accuracy: 1.0000\n",
      "Epoch 168/200\n",
      "20/20 [==============================] - 0s 3ms/step - loss: 0.3470 - accuracy: 0.8542 - val_loss: 0.1035 - val_accuracy: 1.0000\n",
      "Epoch 169/200\n",
      "20/20 [==============================] - 0s 3ms/step - loss: 0.3466 - accuracy: 0.8125 - val_loss: 0.1062 - val_accuracy: 1.0000\n",
      "Epoch 170/200\n",
      "20/20 [==============================] - 0s 3ms/step - loss: 0.2991 - accuracy: 0.9062 - val_loss: 0.1056 - val_accuracy: 1.0000\n",
      "Epoch 171/200\n",
      "20/20 [==============================] - 0s 3ms/step - loss: 0.3034 - accuracy: 0.8646 - val_loss: 0.1060 - val_accuracy: 1.0000\n",
      "Epoch 172/200\n",
      "20/20 [==============================] - 0s 3ms/step - loss: 0.3042 - accuracy: 0.8750 - val_loss: 0.1056 - val_accuracy: 1.0000\n",
      "Epoch 173/200\n",
      "20/20 [==============================] - 0s 3ms/step - loss: 0.2986 - accuracy: 0.9167 - val_loss: 0.1034 - val_accuracy: 1.0000\n",
      "Epoch 174/200\n",
      "20/20 [==============================] - 0s 3ms/step - loss: 0.3489 - accuracy: 0.8542 - val_loss: 0.1131 - val_accuracy: 0.9167\n",
      "Epoch 175/200\n",
      "20/20 [==============================] - 0s 3ms/step - loss: 0.3312 - accuracy: 0.8542 - val_loss: 0.0999 - val_accuracy: 1.0000\n",
      "Epoch 176/200\n",
      "20/20 [==============================] - 0s 3ms/step - loss: 0.3145 - accuracy: 0.8438 - val_loss: 0.1016 - val_accuracy: 1.0000\n",
      "Epoch 177/200\n",
      "20/20 [==============================] - 0s 3ms/step - loss: 0.2999 - accuracy: 0.8646 - val_loss: 0.0983 - val_accuracy: 1.0000\n",
      "Epoch 178/200\n",
      "20/20 [==============================] - 0s 3ms/step - loss: 0.3585 - accuracy: 0.8021 - val_loss: 0.1029 - val_accuracy: 1.0000\n",
      "Epoch 179/200\n",
      "20/20 [==============================] - 0s 3ms/step - loss: 0.2737 - accuracy: 0.8646 - val_loss: 0.0949 - val_accuracy: 1.0000\n",
      "Epoch 180/200\n",
      "20/20 [==============================] - 0s 3ms/step - loss: 0.2439 - accuracy: 0.9271 - val_loss: 0.0933 - val_accuracy: 1.0000\n",
      "Epoch 181/200\n",
      "20/20 [==============================] - 0s 3ms/step - loss: 0.3022 - accuracy: 0.8958 - val_loss: 0.0930 - val_accuracy: 1.0000\n",
      "Epoch 182/200\n",
      "20/20 [==============================] - 0s 4ms/step - loss: 0.3352 - accuracy: 0.8333 - val_loss: 0.0946 - val_accuracy: 1.0000\n",
      "Epoch 183/200\n",
      "20/20 [==============================] - 0s 3ms/step - loss: 0.3101 - accuracy: 0.8750 - val_loss: 0.0940 - val_accuracy: 1.0000\n",
      "Epoch 184/200\n",
      "20/20 [==============================] - 0s 3ms/step - loss: 0.3493 - accuracy: 0.8438 - val_loss: 0.1011 - val_accuracy: 1.0000\n",
      "Epoch 185/200\n",
      "20/20 [==============================] - 0s 3ms/step - loss: 0.2947 - accuracy: 0.8229 - val_loss: 0.0953 - val_accuracy: 1.0000\n",
      "Epoch 186/200\n",
      "20/20 [==============================] - 0s 3ms/step - loss: 0.3423 - accuracy: 0.8125 - val_loss: 0.0961 - val_accuracy: 1.0000\n",
      "Epoch 187/200\n",
      "20/20 [==============================] - 0s 3ms/step - loss: 0.2627 - accuracy: 0.8958 - val_loss: 0.0968 - val_accuracy: 1.0000\n",
      "Epoch 188/200\n",
      "20/20 [==============================] - 0s 3ms/step - loss: 0.2844 - accuracy: 0.8646 - val_loss: 0.0943 - val_accuracy: 1.0000\n",
      "Epoch 189/200\n",
      "20/20 [==============================] - 0s 3ms/step - loss: 0.2779 - accuracy: 0.9062 - val_loss: 0.0930 - val_accuracy: 1.0000\n",
      "Epoch 190/200\n",
      "20/20 [==============================] - 0s 3ms/step - loss: 0.2926 - accuracy: 0.8333 - val_loss: 0.0913 - val_accuracy: 1.0000\n",
      "Epoch 191/200\n",
      "20/20 [==============================] - 0s 3ms/step - loss: 0.2953 - accuracy: 0.8750 - val_loss: 0.0918 - val_accuracy: 1.0000\n",
      "Epoch 192/200\n",
      "20/20 [==============================] - 0s 3ms/step - loss: 0.3381 - accuracy: 0.8333 - val_loss: 0.0880 - val_accuracy: 1.0000\n",
      "Epoch 193/200\n",
      "20/20 [==============================] - 0s 3ms/step - loss: 0.2795 - accuracy: 0.8750 - val_loss: 0.0903 - val_accuracy: 1.0000\n",
      "Epoch 194/200\n",
      "20/20 [==============================] - 0s 3ms/step - loss: 0.2736 - accuracy: 0.8646 - val_loss: 0.1024 - val_accuracy: 1.0000\n",
      "Epoch 195/200\n",
      "20/20 [==============================] - 0s 3ms/step - loss: 0.3235 - accuracy: 0.8646 - val_loss: 0.0915 - val_accuracy: 1.0000\n",
      "Epoch 196/200\n",
      "20/20 [==============================] - 0s 3ms/step - loss: 0.3011 - accuracy: 0.8333 - val_loss: 0.0921 - val_accuracy: 1.0000\n",
      "Epoch 197/200\n",
      "20/20 [==============================] - 0s 3ms/step - loss: 0.3392 - accuracy: 0.8021 - val_loss: 0.0876 - val_accuracy: 1.0000\n",
      "Epoch 198/200\n",
      "20/20 [==============================] - 0s 3ms/step - loss: 0.2560 - accuracy: 0.8854 - val_loss: 0.0904 - val_accuracy: 1.0000\n",
      "Epoch 199/200\n",
      "20/20 [==============================] - 0s 3ms/step - loss: 0.3383 - accuracy: 0.8125 - val_loss: 0.0896 - val_accuracy: 1.0000\n",
      "Epoch 200/200\n",
      "20/20 [==============================] - 0s 3ms/step - loss: 0.2263 - accuracy: 0.8958 - val_loss: 0.0853 - val_accuracy: 1.0000\n"
     ]
    }
   ],
   "source": [
    "# Train the model\n",
    "history = model.fit(train_x, train_y,\n",
    "          epochs=200,\n",
    "          batch_size=5, validation_split=0.2)"
   ]
  },
  {
   "cell_type": "markdown",
   "metadata": {},
   "source": [
    "# <div style=\"direction:rtl;text-align:right;font-family:B Lotus, B Nazanin, Tahoma\">سوال 4:</div>\n",
    "<div style=\"direction:rtl;text-align:right;font-family:Tahoma\">\n",
    "مدل را روی داده های test ارزیابی کنید.\n",
    "<br>\n",
    "<b>راهنمایی: </b>\n",
    "از تابع model.evaluate استفاده کنید.\n",
    "</div>"
   ]
  },
  {
   "cell_type": "code",
   "execution_count": 13,
   "metadata": {},
   "outputs": [
    {
     "name": "stdout",
     "output_type": "stream",
     "text": [
      "1/1 [==============================] - 0s 20ms/step - loss: 0.0484 - accuracy: 1.0000\n",
      "Final test set loss: 0.048361\n",
      "Final test set accuracy: 1.000000\n"
     ]
    }
   ],
   "source": [
    "# Test on unseen data\n",
    "results = model.evaluate(test_x, test_y)\n",
    "\n",
    "print('Final test set loss: {:4f}'.format(results[0]))\n",
    "print('Final test set accuracy: {:4f}'.format(results[1]))"
   ]
  },
  {
   "cell_type": "code",
   "execution_count": null,
   "metadata": {},
   "outputs": [],
   "source": []
  },
  {
   "cell_type": "code",
   "execution_count": 15,
   "metadata": {},
   "outputs": [
    {
     "name": "stdout",
     "output_type": "stream",
     "text": [
      "Downloading data from https://storage.googleapis.com/tensorflow/tf-keras-datasets/train-labels-idx1-ubyte.gz\n",
      "29515/29515 [==============================] - 0s 6us/step\n",
      "Downloading data from https://storage.googleapis.com/tensorflow/tf-keras-datasets/train-images-idx3-ubyte.gz\n",
      "26421880/26421880 [==============================] - 36s 1us/step\n",
      "Downloading data from https://storage.googleapis.com/tensorflow/tf-keras-datasets/t10k-labels-idx1-ubyte.gz\n",
      "5148/5148 [==============================] - 0s 0s/step\n",
      "Downloading data from https://storage.googleapis.com/tensorflow/tf-keras-datasets/t10k-images-idx3-ubyte.gz\n",
      "4422102/4422102 [==============================] - 4s 1us/step\n"
     ]
    }
   ],
   "source": [
    "import tensorflow as tf\n",
    "\n",
    "fashion_mnist = keras.datasets.fashion_mnist\n",
    "(train_images, train_labels), (test_images, test_labels) = fashion_mnist.load_data()\n"
   ]
  },
  {
   "cell_type": "code",
   "execution_count": null,
   "metadata": {},
   "outputs": [],
   "source": []
  },
  {
   "cell_type": "code",
   "execution_count": null,
   "metadata": {},
   "outputs": [],
   "source": []
  },
  {
   "cell_type": "code",
   "execution_count": 16,
   "metadata": {},
   "outputs": [],
   "source": [
    "import numpy as np\n",
    "from tensorflow import keras\n",
    "from sklearn.datasets import load_iris\n",
    "from sklearn.model_selection import train_test_split\n",
    "from keras.models import Sequential\n",
    "from keras.layers import Dense, Dropout\n",
    "from tensorflow.keras.optimizers import Adam\n",
    "import tensorflow as tf"
   ]
  },
  {
   "cell_type": "code",
   "execution_count": 17,
   "metadata": {},
   "outputs": [],
   "source": [
    "fashion_mnist = keras.datasets.fashion_mnist\n",
    "(train_images, train_labels), (test_images, test_labels) = fashion_mnist.load_data()"
   ]
  },
  {
   "cell_type": "code",
   "execution_count": 18,
   "metadata": {},
   "outputs": [
    {
     "data": {
      "text/plain": [
       "array([0, 1, 2, 3, 4, 5, 6, 7, 8, 9], dtype=uint8)"
      ]
     },
     "execution_count": 18,
     "metadata": {},
     "output_type": "execute_result"
    }
   ],
   "source": [
    "np.unique(train_labels)"
   ]
  },
  {
   "cell_type": "code",
   "execution_count": 19,
   "metadata": {},
   "outputs": [
    {
     "data": {
      "text/plain": [
       "<matplotlib.image.AxesImage at 0x27b47f34580>"
      ]
     },
     "execution_count": 19,
     "metadata": {},
     "output_type": "execute_result"
    },
    {
     "data": {
      "image/png": "[encoded data removed]",
      "text/plain": [
       "<Figure size 640x480 with 1 Axes>"
      ]
     },
     "metadata": {},
     "output_type": "display_data"
    }
   ],
   "source": [
    "import matplotlib.pyplot as plt\n",
    "%matplotlib inline\n",
    "plt.imshow(train_images[17])"
   ]
  },
  {
   "cell_type": "code",
   "execution_count": 20,
   "metadata": {},
   "outputs": [
    {
     "data": {
      "text/plain": [
       "<matplotlib.image.AxesImage at 0x27b48024880>"
      ]
     },
     "execution_count": 20,
     "metadata": {},
     "output_type": "execute_result"
    },
    {
     "data": {
      "image/png": "[encoded data removed]",
      "text/plain": [
       "<Figure size 640x480 with 1 Axes>"
      ]
     },
     "metadata": {},
     "output_type": "display_data"
    }
   ],
   "source": [
    "plt.imshow(train_images[1700])"
   ]
  },
  {
   "cell_type": "code",
   "execution_count": 21,
   "metadata": {},
   "outputs": [
    {
     "name": "stdout",
     "output_type": "stream",
     "text": [
      "9\n"
     ]
    }
   ],
   "source": [
    "print(train_labels[1700])"
   ]
  },
  {
   "cell_type": "code",
   "execution_count": 22,
   "metadata": {},
   "outputs": [
    {
     "data": {
      "text/plain": [
       "<matplotlib.image.AxesImage at 0x27b481b3c10>"
      ]
     },
     "execution_count": 22,
     "metadata": {},
     "output_type": "execute_result"
    },
    {
     "data": {
      "image/png": "[encoded data removed]",
      "text/plain": [
       "<Figure size 640x480 with 1 Axes>"
      ]
     },
     "metadata": {},
     "output_type": "display_data"
    }
   ],
   "source": [
    "plt.imshow(train_images[27000])"
   ]
  },
  {
   "cell_type": "code",
   "execution_count": 24,
   "metadata": {},
   "outputs": [
    {
     "data": {
      "text/plain": [
       "<matplotlib.image.AxesImage at 0x27b48226800>"
      ]
     },
     "execution_count": 24,
     "metadata": {},
     "output_type": "execute_result"
    },
    {
     "data": {
      "image/png": "[encoded data removed]",
      "text/plain": [
       "<Figure size 640x480 with 1 Axes>"
      ]
     },
     "metadata": {},
     "output_type": "display_data"
    }
   ],
   "source": [
    "plt.imshow(train_images[50000])"
   ]
  },
  {
   "cell_type": "code",
   "execution_count": 25,
   "metadata": {},
   "outputs": [
    {
     "name": "stdout",
     "output_type": "stream",
     "text": [
      "9\n"
     ]
    }
   ],
   "source": [
    "print(train_labels[50000])"
   ]
  },
  {
   "cell_type": "code",
   "execution_count": 47,
   "metadata": {},
   "outputs": [],
   "source": [
    "from keras.layers import Flatten\n",
    "model = Sequential()\n",
    "model.add(Flatten(input_shape=(28,28)))\n",
    "model.add(Dense(256, activation='relu'))\n",
    "# model.add(Dropout(0.4))\n",
    "# model.add(Dense(64, activation='relu'))\n",
    "# model.add(Dropout(0.3))\n",
    "model.add(Dense(10))"
   ]
  },
  {
   "cell_type": "code",
   "execution_count": 48,
   "metadata": {},
   "outputs": [
    {
     "name": "stdout",
     "output_type": "stream",
     "text": [
      "Model: \"sequential_4\"\n",
      "_________________________________________________________________\n",
      " Layer (type)                Output Shape              Param #   \n",
      "=================================================================\n",
      " flatten_3 (Flatten)         (None, 784)               0         \n",
      "                                                                 \n",
      " dense_10 (Dense)            (None, 256)               200960    \n",
      "                                                                 \n",
      " dense_11 (Dense)            (None, 10)                2570      \n",
      "                                                                 \n",
      "=================================================================\n",
      "Total params: 203530 (795.04 KB)\n",
      "Trainable params: 203530 (795.04 KB)\n",
      "Non-trainable params: 0 (0.00 Byte)\n",
      "_________________________________________________________________\n"
     ]
    }
   ],
   "source": [
    "model.summary()"
   ]
  },
  {
   "cell_type": "code",
   "execution_count": 53,
   "metadata": {},
   "outputs": [
    {
     "name": "stdout",
     "output_type": "stream",
     "text": [
      "Epoch 1/100\n",
      "1500/1500 [==============================] - 5s 3ms/step - loss: 0.3559 - accuracy: 0.8808 - val_loss: 0.8931 - val_accuracy: 0.8339\n",
      "Epoch 2/100\n",
      "1500/1500 [==============================] - 5s 3ms/step - loss: 0.3677 - accuracy: 0.8771 - val_loss: 0.7572 - val_accuracy: 0.8335\n",
      "Epoch 3/100\n",
      "1500/1500 [==============================] - 5s 3ms/step - loss: 0.3652 - accuracy: 0.8793 - val_loss: 0.8645 - val_accuracy: 0.8374\n",
      "Epoch 4/100\n",
      "1500/1500 [==============================] - 5s 3ms/step - loss: 0.3563 - accuracy: 0.8817 - val_loss: 0.7930 - val_accuracy: 0.8441\n",
      "Epoch 5/100\n",
      "1500/1500 [==============================] - 5s 3ms/step - loss: 0.3478 - accuracy: 0.8813 - val_loss: 0.8442 - val_accuracy: 0.8434\n",
      "Epoch 6/100\n",
      "1500/1500 [==============================] - 4s 2ms/step - loss: 0.3698 - accuracy: 0.8773 - val_loss: 0.8010 - val_accuracy: 0.8336\n",
      "Epoch 7/100\n",
      "1500/1500 [==============================] - 4s 3ms/step - loss: 0.3505 - accuracy: 0.8808 - val_loss: 0.8153 - val_accuracy: 0.8360\n",
      "Epoch 8/100\n",
      "1500/1500 [==============================] - 4s 3ms/step - loss: 0.3552 - accuracy: 0.8805 - val_loss: 0.9022 - val_accuracy: 0.8379\n",
      "Epoch 9/100\n",
      "1500/1500 [==============================] - 4s 2ms/step - loss: 0.3757 - accuracy: 0.8770 - val_loss: 0.8753 - val_accuracy: 0.8298\n",
      "Epoch 10/100\n",
      "1500/1500 [==============================] - 4s 3ms/step - loss: 0.3519 - accuracy: 0.8816 - val_loss: 0.8391 - val_accuracy: 0.8479\n",
      "Epoch 11/100\n",
      "1500/1500 [==============================] - 4s 2ms/step - loss: 0.3409 - accuracy: 0.8849 - val_loss: 0.8501 - val_accuracy: 0.8551\n",
      "Epoch 12/100\n",
      "1500/1500 [==============================] - 4s 2ms/step - loss: 0.3485 - accuracy: 0.8826 - val_loss: 0.9704 - val_accuracy: 0.8395\n",
      "Epoch 13/100\n",
      "1500/1500 [==============================] - 4s 3ms/step - loss: 0.3694 - accuracy: 0.8788 - val_loss: 0.7624 - val_accuracy: 0.8413\n",
      "Epoch 14/100\n",
      "1500/1500 [==============================] - 4s 3ms/step - loss: 0.3481 - accuracy: 0.8813 - val_loss: 0.8656 - val_accuracy: 0.8398\n",
      "Epoch 15/100\n",
      "1500/1500 [==============================] - 4s 3ms/step - loss: 0.3655 - accuracy: 0.8795 - val_loss: 0.8230 - val_accuracy: 0.8534\n",
      "Epoch 16/100\n",
      "1500/1500 [==============================] - 4s 3ms/step - loss: 0.3592 - accuracy: 0.8797 - val_loss: 1.0316 - val_accuracy: 0.8420\n",
      "Epoch 17/100\n",
      "1500/1500 [==============================] - 4s 3ms/step - loss: 0.3639 - accuracy: 0.8794 - val_loss: 0.8174 - val_accuracy: 0.8418\n",
      "Epoch 18/100\n",
      "1500/1500 [==============================] - 4s 3ms/step - loss: 0.3702 - accuracy: 0.8780 - val_loss: 0.8603 - val_accuracy: 0.8292\n",
      "Epoch 19/100\n",
      "1500/1500 [==============================] - 4s 3ms/step - loss: 0.3810 - accuracy: 0.8755 - val_loss: 0.9413 - val_accuracy: 0.8367\n",
      "Epoch 20/100\n",
      "1500/1500 [==============================] - 4s 3ms/step - loss: 0.3563 - accuracy: 0.8815 - val_loss: 0.7946 - val_accuracy: 0.8528\n",
      "Epoch 21/100\n",
      "1500/1500 [==============================] - 4s 3ms/step - loss: 0.3702 - accuracy: 0.8797 - val_loss: 0.8625 - val_accuracy: 0.8496\n",
      "Epoch 22/100\n",
      "1500/1500 [==============================] - 4s 3ms/step - loss: 0.3459 - accuracy: 0.8825 - val_loss: 0.8762 - val_accuracy: 0.8348\n",
      "Epoch 23/100\n",
      "1500/1500 [==============================] - 4s 3ms/step - loss: 0.3636 - accuracy: 0.8814 - val_loss: 0.8230 - val_accuracy: 0.8374\n",
      "Epoch 24/100\n",
      "1500/1500 [==============================] - 4s 3ms/step - loss: 0.3547 - accuracy: 0.8823 - val_loss: 0.9242 - val_accuracy: 0.8386\n",
      "Epoch 25/100\n",
      "1500/1500 [==============================] - 4s 3ms/step - loss: 0.3685 - accuracy: 0.8793 - val_loss: 1.0004 - val_accuracy: 0.8522\n",
      "Epoch 26/100\n",
      "1500/1500 [==============================] - 4s 3ms/step - loss: 0.3596 - accuracy: 0.8819 - val_loss: 0.9290 - val_accuracy: 0.8356\n",
      "Epoch 27/100\n",
      "1500/1500 [==============================] - 4s 3ms/step - loss: 0.3710 - accuracy: 0.8792 - val_loss: 0.8565 - val_accuracy: 0.8468\n",
      "Epoch 28/100\n",
      "1500/1500 [==============================] - 4s 3ms/step - loss: 0.3472 - accuracy: 0.8817 - val_loss: 0.8305 - val_accuracy: 0.8530\n",
      "Epoch 29/100\n",
      "1500/1500 [==============================] - 4s 3ms/step - loss: 0.3982 - accuracy: 0.8740 - val_loss: 0.9442 - val_accuracy: 0.8397\n",
      "Epoch 30/100\n",
      "1500/1500 [==============================] - 4s 3ms/step - loss: 0.3786 - accuracy: 0.8765 - val_loss: 0.8688 - val_accuracy: 0.8456\n",
      "Epoch 31/100\n",
      "1500/1500 [==============================] - 4s 3ms/step - loss: 0.3594 - accuracy: 0.8809 - val_loss: 0.7917 - val_accuracy: 0.8524\n",
      "Epoch 32/100\n",
      "1500/1500 [==============================] - 4s 3ms/step - loss: 0.3512 - accuracy: 0.8829 - val_loss: 0.8495 - val_accuracy: 0.8412\n",
      "Epoch 33/100\n",
      "1500/1500 [==============================] - 4s 3ms/step - loss: 0.3893 - accuracy: 0.8762 - val_loss: 0.9911 - val_accuracy: 0.8406\n",
      "Epoch 34/100\n",
      "1500/1500 [==============================] - 4s 3ms/step - loss: 0.3666 - accuracy: 0.8800 - val_loss: 0.9830 - val_accuracy: 0.8363\n",
      "Epoch 35/100\n",
      "1500/1500 [==============================] - 4s 2ms/step - loss: 0.3594 - accuracy: 0.8800 - val_loss: 1.0046 - val_accuracy: 0.8460\n",
      "Epoch 36/100\n",
      "1500/1500 [==============================] - 4s 3ms/step - loss: 0.3577 - accuracy: 0.8812 - val_loss: 0.9665 - val_accuracy: 0.8388\n",
      "Epoch 37/100\n",
      "1500/1500 [==============================] - 4s 3ms/step - loss: 0.3575 - accuracy: 0.8815 - val_loss: 0.9462 - val_accuracy: 0.7962\n",
      "Epoch 38/100\n",
      "1500/1500 [==============================] - 4s 2ms/step - loss: 0.3773 - accuracy: 0.8754 - val_loss: 0.9082 - val_accuracy: 0.8340\n",
      "Epoch 39/100\n",
      "1500/1500 [==============================] - 4s 3ms/step - loss: 0.3670 - accuracy: 0.8808 - val_loss: 0.9084 - val_accuracy: 0.8503\n",
      "Epoch 40/100\n",
      "1500/1500 [==============================] - 4s 3ms/step - loss: 0.3532 - accuracy: 0.8831 - val_loss: 0.9566 - val_accuracy: 0.8485\n",
      "Epoch 41/100\n",
      "1500/1500 [==============================] - 4s 3ms/step - loss: 0.3682 - accuracy: 0.8815 - val_loss: 0.9616 - val_accuracy: 0.8398\n",
      "Epoch 42/100\n",
      "1500/1500 [==============================] - 3s 2ms/step - loss: 0.3678 - accuracy: 0.8786 - val_loss: 1.0472 - val_accuracy: 0.8461\n",
      "Epoch 43/100\n",
      "1500/1500 [==============================] - 4s 2ms/step - loss: 0.3582 - accuracy: 0.8806 - val_loss: 1.0216 - val_accuracy: 0.8528\n",
      "Epoch 44/100\n",
      "1500/1500 [==============================] - 4s 2ms/step - loss: 0.3579 - accuracy: 0.8808 - val_loss: 0.9780 - val_accuracy: 0.8297\n",
      "Epoch 45/100\n",
      "1500/1500 [==============================] - 4s 2ms/step - loss: 0.3449 - accuracy: 0.8828 - val_loss: 0.9986 - val_accuracy: 0.8443\n",
      "Epoch 46/100\n",
      "1500/1500 [==============================] - 4s 2ms/step - loss: 0.3624 - accuracy: 0.8801 - val_loss: 1.0306 - val_accuracy: 0.8273\n",
      "Epoch 47/100\n",
      "1500/1500 [==============================] - 4s 2ms/step - loss: 0.3575 - accuracy: 0.8811 - val_loss: 0.9693 - val_accuracy: 0.8471\n",
      "Epoch 48/100\n",
      "1500/1500 [==============================] - 4s 2ms/step - loss: 0.3553 - accuracy: 0.8812 - val_loss: 0.8733 - val_accuracy: 0.8350\n",
      "Epoch 49/100\n",
      "1500/1500 [==============================] - 4s 2ms/step - loss: 0.3473 - accuracy: 0.8844 - val_loss: 0.9741 - val_accuracy: 0.8502\n",
      "Epoch 50/100\n",
      "1500/1500 [==============================] - 4s 2ms/step - loss: 0.3612 - accuracy: 0.8793 - val_loss: 0.9985 - val_accuracy: 0.8471\n",
      "Epoch 51/100\n",
      "1500/1500 [==============================] - 4s 2ms/step - loss: 0.3644 - accuracy: 0.8791 - val_loss: 1.0239 - val_accuracy: 0.8386\n",
      "Epoch 52/100\n",
      "1500/1500 [==============================] - 4s 3ms/step - loss: 0.3631 - accuracy: 0.8819 - val_loss: 1.0657 - val_accuracy: 0.8422\n",
      "Epoch 53/100\n",
      "1500/1500 [==============================] - 4s 3ms/step - loss: 0.3746 - accuracy: 0.8808 - val_loss: 1.0076 - val_accuracy: 0.8300\n",
      "Epoch 54/100\n",
      "1500/1500 [==============================] - 4s 2ms/step - loss: 0.3720 - accuracy: 0.8812 - val_loss: 1.0282 - val_accuracy: 0.8404\n",
      "Epoch 55/100\n",
      "1500/1500 [==============================] - 4s 3ms/step - loss: 0.3521 - accuracy: 0.8827 - val_loss: 0.9383 - val_accuracy: 0.8464\n",
      "Epoch 56/100\n",
      "1500/1500 [==============================] - 4s 2ms/step - loss: 0.3637 - accuracy: 0.8811 - val_loss: 0.9194 - val_accuracy: 0.8472\n",
      "Epoch 57/100\n",
      "1500/1500 [==============================] - 4s 2ms/step - loss: 0.3554 - accuracy: 0.8824 - val_loss: 0.9912 - val_accuracy: 0.8267\n",
      "Epoch 58/100\n",
      "1500/1500 [==============================] - 4s 2ms/step - loss: 0.3544 - accuracy: 0.8828 - val_loss: 1.0906 - val_accuracy: 0.8487\n",
      "Epoch 59/100\n",
      "1500/1500 [==============================] - 4s 2ms/step - loss: 0.3640 - accuracy: 0.8826 - val_loss: 1.0254 - val_accuracy: 0.8457\n",
      "Epoch 60/100\n",
      "1500/1500 [==============================] - 4s 2ms/step - loss: 0.3610 - accuracy: 0.8798 - val_loss: 0.9885 - val_accuracy: 0.8358\n",
      "Epoch 61/100\n",
      "1500/1500 [==============================] - 4s 2ms/step - loss: 0.3442 - accuracy: 0.8837 - val_loss: 1.0320 - val_accuracy: 0.8407\n",
      "Epoch 62/100\n",
      "1500/1500 [==============================] - 4s 2ms/step - loss: 0.3391 - accuracy: 0.8870 - val_loss: 0.9151 - val_accuracy: 0.8351\n",
      "Epoch 63/100\n",
      "1500/1500 [==============================] - 4s 2ms/step - loss: 0.3519 - accuracy: 0.8829 - val_loss: 1.1818 - val_accuracy: 0.8466\n",
      "Epoch 64/100\n",
      "1500/1500 [==============================] - 4s 2ms/step - loss: 0.3449 - accuracy: 0.8836 - val_loss: 1.0623 - val_accuracy: 0.8425\n",
      "Epoch 65/100\n",
      "1500/1500 [==============================] - 4s 2ms/step - loss: 0.3621 - accuracy: 0.8801 - val_loss: 1.1261 - val_accuracy: 0.8418\n",
      "Epoch 66/100\n",
      "1500/1500 [==============================] - 4s 2ms/step - loss: 0.3791 - accuracy: 0.8793 - val_loss: 0.9902 - val_accuracy: 0.8376\n",
      "Epoch 67/100\n",
      "1500/1500 [==============================] - 4s 2ms/step - loss: 0.3539 - accuracy: 0.8840 - val_loss: 1.0629 - val_accuracy: 0.8388\n",
      "Epoch 68/100\n",
      "1500/1500 [==============================] - 4s 2ms/step - loss: 0.3613 - accuracy: 0.8845 - val_loss: 1.0040 - val_accuracy: 0.8340\n",
      "Epoch 69/100\n",
      "1500/1500 [==============================] - 4s 2ms/step - loss: 0.3552 - accuracy: 0.8850 - val_loss: 0.9877 - val_accuracy: 0.8448\n",
      "Epoch 70/100\n",
      "1500/1500 [==============================] - 4s 2ms/step - loss: 0.3525 - accuracy: 0.8850 - val_loss: 1.2876 - val_accuracy: 0.8184\n",
      "Epoch 71/100\n",
      "1500/1500 [==============================] - 4s 2ms/step - loss: 0.3498 - accuracy: 0.8843 - val_loss: 1.1435 - val_accuracy: 0.8430\n",
      "Epoch 72/100\n",
      "1500/1500 [==============================] - 4s 2ms/step - loss: 0.3576 - accuracy: 0.8842 - val_loss: 1.1741 - val_accuracy: 0.8460\n",
      "Epoch 73/100\n",
      "1500/1500 [==============================] - 4s 2ms/step - loss: 0.3382 - accuracy: 0.8863 - val_loss: 1.2020 - val_accuracy: 0.8410\n",
      "Epoch 74/100\n",
      "1500/1500 [==============================] - 4s 2ms/step - loss: 0.3580 - accuracy: 0.8818 - val_loss: 1.0502 - val_accuracy: 0.8447\n",
      "Epoch 75/100\n",
      "1500/1500 [==============================] - 4s 2ms/step - loss: 0.3510 - accuracy: 0.8839 - val_loss: 1.2678 - val_accuracy: 0.8482\n",
      "Epoch 76/100\n",
      "1500/1500 [==============================] - 4s 2ms/step - loss: 0.3520 - accuracy: 0.8836 - val_loss: 1.2080 - val_accuracy: 0.8489\n",
      "Epoch 77/100\n",
      "1500/1500 [==============================] - 4s 2ms/step - loss: 0.3523 - accuracy: 0.8848 - val_loss: 1.0733 - val_accuracy: 0.8511\n",
      "Epoch 78/100\n",
      "1500/1500 [==============================] - 3s 2ms/step - loss: 0.3500 - accuracy: 0.8842 - val_loss: 1.4169 - val_accuracy: 0.8313\n",
      "Epoch 79/100\n",
      "1500/1500 [==============================] - 4s 2ms/step - loss: 0.3787 - accuracy: 0.8822 - val_loss: 1.0483 - val_accuracy: 0.8457\n",
      "Epoch 80/100\n",
      "1500/1500 [==============================] - 4s 2ms/step - loss: 0.3455 - accuracy: 0.8851 - val_loss: 1.1003 - val_accuracy: 0.8390\n",
      "Epoch 81/100\n",
      "1500/1500 [==============================] - 4s 2ms/step - loss: 0.3392 - accuracy: 0.8871 - val_loss: 1.0350 - val_accuracy: 0.8517\n",
      "Epoch 82/100\n",
      "1500/1500 [==============================] - 4s 2ms/step - loss: 0.3510 - accuracy: 0.8829 - val_loss: 1.1253 - val_accuracy: 0.8520\n",
      "Epoch 83/100\n",
      "1500/1500 [==============================] - 4s 2ms/step - loss: 0.3593 - accuracy: 0.8803 - val_loss: 1.1409 - val_accuracy: 0.8229\n",
      "Epoch 84/100\n",
      "1500/1500 [==============================] - 4s 2ms/step - loss: 0.3496 - accuracy: 0.8843 - val_loss: 1.2221 - val_accuracy: 0.8439\n",
      "Epoch 85/100\n",
      "1500/1500 [==============================] - 4s 2ms/step - loss: 0.3478 - accuracy: 0.8858 - val_loss: 1.1417 - val_accuracy: 0.8362\n",
      "Epoch 86/100\n",
      "1500/1500 [==============================] - 4s 2ms/step - loss: 0.3544 - accuracy: 0.8828 - val_loss: 1.2007 - val_accuracy: 0.8284\n",
      "Epoch 87/100\n",
      "1500/1500 [==============================] - 4s 2ms/step - loss: 0.3566 - accuracy: 0.8831 - val_loss: 1.1139 - val_accuracy: 0.8455\n",
      "Epoch 88/100\n",
      "1500/1500 [==============================] - 4s 2ms/step - loss: 0.3446 - accuracy: 0.8857 - val_loss: 1.3322 - val_accuracy: 0.8404\n",
      "Epoch 89/100\n",
      "1500/1500 [==============================] - 4s 2ms/step - loss: 0.3613 - accuracy: 0.8800 - val_loss: 1.3125 - val_accuracy: 0.8494\n",
      "Epoch 90/100\n",
      "1500/1500 [==============================] - 4s 2ms/step - loss: 0.3422 - accuracy: 0.8846 - val_loss: 1.2767 - val_accuracy: 0.8219\n",
      "Epoch 91/100\n",
      "1500/1500 [==============================] - 3s 2ms/step - loss: 0.3463 - accuracy: 0.8842 - val_loss: 1.2862 - val_accuracy: 0.8514\n",
      "Epoch 92/100\n",
      "1500/1500 [==============================] - 4s 2ms/step - loss: 0.3469 - accuracy: 0.8858 - val_loss: 1.2990 - val_accuracy: 0.8474\n",
      "Epoch 93/100\n",
      "1500/1500 [==============================] - 4s 2ms/step - loss: 0.3699 - accuracy: 0.8847 - val_loss: 1.2969 - val_accuracy: 0.8437\n",
      "Epoch 94/100\n",
      "1500/1500 [==============================] - 4s 2ms/step - loss: 0.3385 - accuracy: 0.8874 - val_loss: 1.3383 - val_accuracy: 0.8195\n",
      "Epoch 95/100\n",
      "1500/1500 [==============================] - 4s 2ms/step - loss: 0.3582 - accuracy: 0.8839 - val_loss: 1.6330 - val_accuracy: 0.8409\n",
      "Epoch 96/100\n",
      "1500/1500 [==============================] - 4s 2ms/step - loss: 0.3358 - accuracy: 0.8866 - val_loss: 1.5534 - val_accuracy: 0.8384\n",
      "Epoch 97/100\n",
      "1500/1500 [==============================] - 3s 2ms/step - loss: 0.3480 - accuracy: 0.8845 - val_loss: 1.2403 - val_accuracy: 0.8484\n",
      "Epoch 98/100\n",
      "1500/1500 [==============================] - 4s 2ms/step - loss: 0.3422 - accuracy: 0.8854 - val_loss: 1.4150 - val_accuracy: 0.8508\n",
      "Epoch 99/100\n",
      "1500/1500 [==============================] - 4s 2ms/step - loss: 0.3769 - accuracy: 0.8821 - val_loss: 1.2611 - val_accuracy: 0.8337\n",
      "Epoch 100/100\n",
      "1500/1500 [==============================] - 4s 2ms/step - loss: 0.3479 - accuracy: 0.8862 - val_loss: 1.1861 - val_accuracy: 0.8377\n"
     ]
    }
   ],
   "source": [
    "model.compile(loss=tf.keras.losses.SparseCategoricalCrossentropy(from_logits=True),\n",
    "              optimizer='adam',\n",
    "              metrics=['accuracy'])\n",
    "history = model.fit(train_images, train_labels,\n",
    "          epochs=100,\n",
    "          batch_size=32, \n",
    "          validation_split=0.2)"
   ]
  },
  {
   "cell_type": "code",
   "execution_count": 54,
   "metadata": {},
   "outputs": [
    {
     "name": "stdout",
     "output_type": "stream",
     "text": [
      "313/313 [==============================] - 0s 1ms/step - loss: 1.2555 - accuracy: 0.8299\n",
      "\n",
      "Testing loss: 1.26, acc: 0.83%\n"
     ]
    }
   ],
   "source": [
    "loss, acc = model.evaluate(test_images, test_labels)\n",
    "print('\\nTesting loss: %.2f, acc: %.2f%%'%(loss, acc))"
   ]
  },
  {
   "cell_type": "code",
   "execution_count": 55,
   "metadata": {},
   "outputs": [
    {
     "data": {
      "text/plain": [
       "<matplotlib.legend.Legend at 0x27b4dfe3160>"
      ]
     },
     "execution_count": 55,
     "metadata": {},
     "output_type": "execute_result"
    },
    {
     "data": {
      "image/png": "[encoded data removed]",
      "text/plain": [
       "<Figure size 640x480 with 1 Axes>"
      ]
     },
     "metadata": {},
     "output_type": "display_data"
    }
   ],
   "source": [
    "plt.plot(history.history['val_accuracy'])\n",
    "plt.plot(history.history['accuracy'])\n",
    "plt.legend(['Validation accuracy', 'Training accuracy'])"
   ]
  },
  {
   "cell_type": "code",
   "execution_count": 56,
   "metadata": {},
   "outputs": [
    {
     "data": {
      "text/plain": [
       "<matplotlib.legend.Legend at 0x27b4e87b040>"
      ]
     },
     "execution_count": 56,
     "metadata": {},
     "output_type": "execute_result"
    },
    {
     "data": {
      "image/png": "[encoded data removed]",
      "text/plain": [
       "<Figure size 640x480 with 1 Axes>"
      ]
     },
     "metadata": {},
     "output_type": "display_data"
    }
   ],
   "source": [
    "plt.plot(history.history['val_loss'])\n",
    "plt.plot(history.history['loss'])\n",
    "plt.legend(['Validation loss', 'Training loss'])"
   ]
  },
  {
   "cell_type": "code",
   "execution_count": 35,
   "metadata": {},
   "outputs": [
    {
     "name": "stdout",
     "output_type": "stream",
     "text": [
      "313/313 [==============================] - 0s 1ms/step\n"
     ]
    }
   ],
   "source": [
    "predicted_classes = model.predict(test_images)\n",
    "predicted_labels = np.argmax(predicted_classes, axis=1)"
   ]
  },
  {
   "cell_type": "code",
   "execution_count": 37,
   "metadata": {},
   "outputs": [
    {
     "data": {
      "image/png": "[encoded data removed]",
      "text/plain": [
       "<Figure size 480x480 with 2 Axes>"
      ]
     },
     "metadata": {},
     "output_type": "display_data"
    }
   ],
   "source": [
    "from sklearn.metrics import confusion_matrix\n",
    "plt.matshow(confusion_matrix(test_labels, predicted_labels), cmap=\"Blues\")\n",
    "plt.colorbar()\n",
    "plt.xticks(range(10))\n",
    "plt.yticks(range(10))\n",
    "plt.xlabel(\"Predicted label\")\n",
    "plt.ylabel(\"True label\");"
   ]
  },
  {
   "cell_type": "code",
   "execution_count": null,
   "metadata": {},
   "outputs": [],
   "source": []
  }
 ],
 "metadata": {
  "kernelspec": {
   "display_name": "Python 3 (ipykernel)",
   "language": "python",
   "name": "python3"
  },
  "language_info": {
   "codemirror_mode": {
    "name": "ipython",
    "version": 3
   },
   "file_extension": ".py",
   "mimetype": "text/x-python",
   "name": "python",
   "nbconvert_exporter": "python",
   "pygments_lexer": "ipython3",
   "version": "3.10.5"
  }
 },
 "nbformat": 4,
 "nbformat_minor": 4
}
