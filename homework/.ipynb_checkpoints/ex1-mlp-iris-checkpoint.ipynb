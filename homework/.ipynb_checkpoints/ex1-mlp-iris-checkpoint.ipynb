{
 "cells": [
  {
   "cell_type": "markdown",
   "metadata": {},
   "source": [
    "<center><div style=\"direction:rtl;font-family:B Lotus, B Nazanin, Tahoma\">به نام خدا</div></center>\n",
    "\n",
    "<h1><center><div style=\"direction:rtl;font-family:B Lotus, B Nazanin, Tahoma\">تمرین عملی 1: طبقه بندی با شبکه های تمام متصل روی مجموعه داده IRIS</div></center></h1>"
   ]
  },
  {
   "cell_type": "markdown",
   "metadata": {},
   "source": [
    "## <div style=\"direction:rtl;text-align:right;font-family:B Lotus, B Nazanin, Tahoma\">صورت مساله</div>\n",
    "\n",
    "\n",
    "<div style=\"direction:rtl;text-align:right;font-family:Tahoma\">\n",
    "در اولین جلسه کارگاه طبقه بندی با شبکه های تمام متصل را دیدیم.\n",
    "<br>\n",
    "توصیه می‌شود حتما نوت بوک‌های زیر را قبل از این تمرین مرور کنید:\n",
    "</div>\n",
    "\n",
    "[04_a Gentle Introduction to Keras - Simple neural network(mlp).ipynb](https://nbviewer.jupyter.org/github/alireza-akhavan/SRU-deeplearning-workshop/blob/master/04_a%20Gentle%20Introduction%20to%20Keras%20-%20Simple%20neural%20network%28mlp%29.ipynb)\n",
    "\n",
    "[05_Dropout.ipynb](https://nbviewer.jupyter.org/github/alireza-akhavan/SRU-deeplearning-workshop/blob/master/05_Dropout.ipynb)\n",
    "\n",
    "<div style=\"direction:rtl;text-align:right;font-family:Tahoma\">\n",
    "در این جلسه با داده های تصویری آشنا شدیم. اما در این تمرین برای اینکه بدانیم کاربرد این مباحث در مسائل غیر تصویری نیز هست  از مجموعه داده ی ساختار یافتهiris  شامل 4 ویژگی برای طول و عرض کاسبرگ و گلبرگ استفاده خواهیم کرد که بتوانیم بر اساس این ویژگی ها نوع گل را از 3 کلاس متفاوت تشخیص دهیم.\n",
    "</div>"
   ]
  },
  {
   "cell_type": "markdown",
   "metadata": {},
   "source": [
    "## <div style=\"direction:rtl;text-align:right;font-family:B Lotus, B Nazanin, Tahoma\">لود کتابخانه های مورد نیاز </div>\n",
    "<div style=\"direction:rtl;text-align:right;font-family:Tahoma\">\n",
    "کتابخانه های مورد نیاز این تمرین لود شده اند\n",
    "<br>\n",
    "در صورت نیاز میتوانید کتابخانه های بیشتری لود کنید:\n",
    "</div>"
   ]
  },
  {
   "cell_type": "code",
   "execution_count": 2,
   "metadata": {},
   "outputs": [],
   "source": [
    "import warnings\n",
    "warnings.filterwarnings('ignore')"
   ]
  },
  {
   "cell_type": "code",
   "execution_count": 3,
   "metadata": {},
   "outputs": [],
   "source": [
    "import numpy as np\n",
    "from tensorflow import keras\n",
    "from sklearn.datasets import load_iris\n",
    "from sklearn.model_selection import train_test_split\n",
    "from keras.models import Sequential\n",
    "from keras.layers import Dense, Dropout\n",
    "from tensorflow.keras.optimizers import Adam"
   ]
  },
  {
   "cell_type": "markdown",
   "metadata": {},
   "source": [
    "<div style=\"direction:rtl;text-align:right;font-family:Tahoma\">\n",
    "در این تمرین میخواهیم از مجموعه داده iris استفاده کنیم.\n",
    "<br>\n",
    "توضیحات این مجموعه داده در سایت آن موجود است:\n",
    "</div>\n",
    "\n",
    "https://archive.ics.uci.edu/ml/datasets/iris\n",
    "\n",
    "\n",
    "<div style=\"direction:rtl;text-align:right;font-family:Tahoma\">\n",
    "ویژگی ها و کلاس های این مجموعه داده به شرح زیر است:\n",
    "</div>\n",
    "\n",
    "Attribute Information:\n",
    "\n",
    "1. sepal length in cm\n",
    "2. sepal width in cm\n",
    "3. petal length in cm\n",
    "4. petal width in cm\n",
    "\n",
    "class:\n",
    "\n",
    "    Iris Setosa\n",
    "    Iris Versicolour\n",
    "    Iris Virginica\n",
    "\n",
    "<div style=\"direction:rtl;text-align:right;font-family:Tahoma\">\n",
    "این دیتاست در کتابخانه sklearn موجود است\n",
    "<br>\n",
    "در قطعه کد زیر ویژگی ها را در x و برچسب یا labelهای متناظر را در y لود شده است.\n",
    "</div>"
   ]
  },
  {
   "cell_type": "code",
   "execution_count": 4,
   "metadata": {},
   "outputs": [],
   "source": [
    "iris_data = load_iris() # load the iris dataset\n",
    "x = iris_data.data\n",
    "y = iris_data.target.reshape(-1, 1) # Convert data to a single column"
   ]
  },
  {
   "cell_type": "code",
   "execution_count": 5,
   "metadata": {},
   "outputs": [
    {
     "data": {
      "text/plain": [
       "(150, 4)"
      ]
     },
     "execution_count": 5,
     "metadata": {},
     "output_type": "execute_result"
    }
   ],
   "source": [
    "x.shape"
   ]
  },
  {
   "cell_type": "code",
   "execution_count": 6,
   "metadata": {},
   "outputs": [
    {
     "data": {
      "text/plain": [
       "(150, 1)"
      ]
     },
     "execution_count": 6,
     "metadata": {},
     "output_type": "execute_result"
    }
   ],
   "source": [
    "y.shape"
   ]
  },
  {
   "cell_type": "markdown",
   "metadata": {},
   "source": [
    "# <div style=\"direction:rtl;text-align:right;font-family:B Lotus, B Nazanin, Tahoma\">سوال 1:</div>\n",
    "<div style=\"direction:rtl;text-align:right;font-family:Tahoma\">\n",
    "برچسب یا label های ما در حال حاضر عددی است.\n",
    "<br>\n",
    "این اعداد 0 تا 2 هستند و به عبارتی 3 حالت مختلف دارند.\n",
    "<br>\n",
    "این برچسب ها را به فرمت one-hot تبدیل کنید و خروجی را مجدد در y بریزید.\n",
    "\n",
    "<br>\n",
    "<b>راهنمایی: </b>\n",
    "از تابع keras.utils.to_categorical استفاده کنید.\n",
    "</div>"
   ]
  },
  {
   "cell_type": "code",
   "execution_count": 7,
   "metadata": {},
   "outputs": [],
   "source": [
    "y = keras.utils.to_categorical(y, num_classes=3)\n",
    "assert y.shape == (150, 3)"
   ]
  },
  {
   "cell_type": "markdown",
   "metadata": {},
   "source": [
    "<div style=\"direction:rtl;text-align:right;font-family:Tahoma\">\n",
    "در زیر داده ها  به داده های test و train تقسیم شده است:\n",
    "</div>"
   ]
  },
  {
   "cell_type": "code",
   "execution_count": 8,
   "metadata": {},
   "outputs": [],
   "source": [
    "# Split the data for training and testing\n",
    "train_x, test_x, train_y, test_y = train_test_split(x, y, test_size=0.20)"
   ]
  },
  {
   "cell_type": "markdown",
   "metadata": {},
   "source": [
    "# <div style=\"direction:rtl;text-align:right;font-family:B Lotus, B Nazanin, Tahoma\">سوال 2:</div>\n",
    "<div style=\"direction:rtl;text-align:right;font-family:Tahoma\">\n",
    "یک شبکه با دو hidden-layer در هر لایه 10 نوران و تابع فعالیت relu بسازید. یک لایه Dropout با نرخ 0.5 در لایه آخر ماقبل softmax نیز اضافه کنید.\n",
    "</div>"
   ]
  },
  {
   "cell_type": "code",
   "execution_count": 9,
   "metadata": {},
   "outputs": [],
   "source": [
    "# Build the model\n",
    "model = Sequential()\n",
    "model.add(Dense(10, activation='relu', input_dim=4))\n",
    "model.add(Dropout(0.2))\n",
    "model.add(Dense(10, activation='relu'))\n",
    "model.add(Dropout(0.2))\n",
    "model.add(Dense(3, activation='softmax'))"
   ]
  },
  {
   "cell_type": "code",
   "execution_count": 10,
   "metadata": {},
   "outputs": [
    {
     "name": "stdout",
     "output_type": "stream",
     "text": [
      "Model: \"sequential\"\n",
      "_________________________________________________________________\n",
      " Layer (type)                Output Shape              Param #   \n",
      "=================================================================\n",
      " dense (Dense)               (None, 10)                50        \n",
      "                                                                 \n",
      " dropout (Dropout)           (None, 10)                0         \n",
      "                                                                 \n",
      " dense_1 (Dense)             (None, 10)                110       \n",
      "                                                                 \n",
      " dropout_1 (Dropout)         (None, 10)                0         \n",
      "                                                                 \n",
      " dense_2 (Dense)             (None, 3)                 33        \n",
      "                                                                 \n",
      "=================================================================\n",
      "Total params: 193 (772.00 Byte)\n",
      "Trainable params: 193 (772.00 Byte)\n",
      "Non-trainable params: 0 (0.00 Byte)\n",
      "_________________________________________________________________\n"
     ]
    }
   ],
   "source": [
    "model.summary()"
   ]
  },
  {
   "cell_type": "markdown",
   "metadata": {},
   "source": [
    "<div style=\"direction:rtl;text-align:right;font-family:Tahoma\">در زیر مدل کامپایل شده است.</div>"
   ]
  },
  {
   "cell_type": "code",
   "execution_count": 11,
   "metadata": {},
   "outputs": [],
   "source": [
    "# Adam optimizer with learning rate of 0.001\n",
    "optimizer = Adam(learning_rate=0.001)\n",
    "model.compile(optimizer, loss='categorical_crossentropy', metrics=['accuracy'])"
   ]
  },
  {
   "cell_type": "markdown",
   "metadata": {},
   "source": [
    "# <div style=\"direction:rtl;text-align:right;font-family:B Lotus, B Nazanin, Tahoma\">سوال 3:</div>\n",
    "<div style=\"direction:rtl;text-align:right;font-family:Tahoma\">\n",
    "مدل را با  batch_size=5 و تعداد 200 ایپاک آموزش دهید.\n",
    "<br>\n",
    "<b>راهنمایی: </b>\n",
    "از تابع model.fit استفاده کنید.\n",
    "</div>"
   ]
  },
  {
   "cell_type": "code",
   "execution_count": 12,
   "metadata": {},
   "outputs": [
    {
     "name": "stdout",
     "output_type": "stream",
     "text": [
      "Epoch 1/200\n",
      "20/20 [==============================] - 1s 11ms/step - loss: 1.4497 - accuracy: 0.3542 - val_loss: 1.1783 - val_accuracy: 0.3750\n",
      "Epoch 2/200\n",
      "20/20 [==============================] - 0s 3ms/step - loss: 1.3603 - accuracy: 0.3229 - val_loss: 1.1190 - val_accuracy: 0.3750\n",
      "Epoch 3/200\n",
      "20/20 [==============================] - 0s 3ms/step - loss: 1.3489 - accuracy: 0.2500 - val_loss: 1.0962 - val_accuracy: 0.3333\n",
      "Epoch 4/200\n",
      "20/20 [==============================] - 0s 3ms/step - loss: 1.2188 - accuracy: 0.3438 - val_loss: 1.0698 - val_accuracy: 0.3333\n",
      "Epoch 5/200\n",
      "20/20 [==============================] - 0s 3ms/step - loss: 1.1510 - accuracy: 0.3542 - val_loss: 1.0487 - val_accuracy: 0.2500\n",
      "Epoch 6/200\n",
      "20/20 [==============================] - 0s 3ms/step - loss: 1.1615 - accuracy: 0.3438 - val_loss: 1.0235 - val_accuracy: 0.1667\n",
      "Epoch 7/200\n",
      "20/20 [==============================] - 0s 4ms/step - loss: 1.1401 - accuracy: 0.3125 - val_loss: 0.9923 - val_accuracy: 0.1667\n",
      "Epoch 8/200\n",
      "20/20 [==============================] - 0s 3ms/step - loss: 1.1185 - accuracy: 0.2917 - val_loss: 0.9554 - val_accuracy: 0.5417\n",
      "Epoch 9/200\n",
      "20/20 [==============================] - 0s 3ms/step - loss: 1.0293 - accuracy: 0.3958 - val_loss: 0.9184 - val_accuracy: 0.5833\n",
      "Epoch 10/200\n",
      "20/20 [==============================] - 0s 3ms/step - loss: 1.0029 - accuracy: 0.4167 - val_loss: 0.8919 - val_accuracy: 0.5417\n",
      "Epoch 11/200\n",
      "20/20 [==============================] - 0s 3ms/step - loss: 0.9611 - accuracy: 0.3958 - val_loss: 0.8681 - val_accuracy: 0.5417\n",
      "Epoch 12/200\n",
      "20/20 [==============================] - 0s 3ms/step - loss: 0.9376 - accuracy: 0.3958 - val_loss: 0.8233 - val_accuracy: 0.5833\n",
      "Epoch 13/200\n",
      "20/20 [==============================] - 0s 3ms/step - loss: 0.8221 - accuracy: 0.4896 - val_loss: 0.7661 - val_accuracy: 0.5833\n",
      "Epoch 14/200\n",
      "20/20 [==============================] - 0s 3ms/step - loss: 0.7901 - accuracy: 0.5938 - val_loss: 0.7254 - val_accuracy: 0.5833\n",
      "Epoch 15/200\n",
      "20/20 [==============================] - 0s 3ms/step - loss: 0.8337 - accuracy: 0.5312 - val_loss: 0.7027 - val_accuracy: 0.5833\n",
      "Epoch 16/200\n",
      "20/20 [==============================] - 0s 3ms/step - loss: 0.7870 - accuracy: 0.5625 - val_loss: 0.6791 - val_accuracy: 0.5833\n",
      "Epoch 17/200\n",
      "20/20 [==============================] - 0s 3ms/step - loss: 0.7482 - accuracy: 0.5208 - val_loss: 0.6552 - val_accuracy: 0.5833\n",
      "Epoch 18/200\n",
      "20/20 [==============================] - 0s 3ms/step - loss: 0.6861 - accuracy: 0.6250 - val_loss: 0.6340 - val_accuracy: 0.5833\n",
      "Epoch 19/200\n",
      "20/20 [==============================] - 0s 3ms/step - loss: 0.7206 - accuracy: 0.5312 - val_loss: 0.6170 - val_accuracy: 0.5833\n",
      "Epoch 20/200\n",
      "20/20 [==============================] - 0s 3ms/step - loss: 0.7625 - accuracy: 0.5833 - val_loss: 0.5981 - val_accuracy: 0.5833\n",
      "Epoch 21/200\n",
      "20/20 [==============================] - 0s 3ms/step - loss: 0.6699 - accuracy: 0.6250 - val_loss: 0.5856 - val_accuracy: 0.5833\n",
      "Epoch 22/200\n",
      "20/20 [==============================] - 0s 3ms/step - loss: 0.6668 - accuracy: 0.6146 - val_loss: 0.5714 - val_accuracy: 0.5833\n",
      "Epoch 23/200\n",
      "20/20 [==============================] - 0s 3ms/step - loss: 0.6483 - accuracy: 0.6042 - val_loss: 0.5600 - val_accuracy: 0.5833\n",
      "Epoch 24/200\n",
      "20/20 [==============================] - 0s 3ms/step - loss: 0.7185 - accuracy: 0.5312 - val_loss: 0.5519 - val_accuracy: 0.5833\n",
      "Epoch 25/200\n",
      "20/20 [==============================] - 0s 3ms/step - loss: 0.6268 - accuracy: 0.6146 - val_loss: 0.5415 - val_accuracy: 0.5833\n",
      "Epoch 26/200\n",
      "20/20 [==============================] - 0s 3ms/step - loss: 0.6749 - accuracy: 0.6354 - val_loss: 0.5269 - val_accuracy: 0.5833\n",
      "Epoch 27/200\n",
      "20/20 [==============================] - 0s 3ms/step - loss: 0.6606 - accuracy: 0.6458 - val_loss: 0.5158 - val_accuracy: 0.5833\n",
      "Epoch 28/200\n",
      "20/20 [==============================] - 0s 3ms/step - loss: 0.6846 - accuracy: 0.6146 - val_loss: 0.5059 - val_accuracy: 0.6667\n",
      "Epoch 29/200\n",
      "20/20 [==============================] - 0s 3ms/step - loss: 0.7011 - accuracy: 0.6250 - val_loss: 0.4998 - val_accuracy: 0.6667\n",
      "Epoch 30/200\n",
      "20/20 [==============================] - 0s 3ms/step - loss: 0.6773 - accuracy: 0.6771 - val_loss: 0.4949 - val_accuracy: 0.6667\n",
      "Epoch 31/200\n",
      "20/20 [==============================] - 0s 3ms/step - loss: 0.6508 - accuracy: 0.6458 - val_loss: 0.4905 - val_accuracy: 0.6250\n",
      "Epoch 32/200\n",
      "20/20 [==============================] - 0s 3ms/step - loss: 0.6604 - accuracy: 0.6458 - val_loss: 0.4851 - val_accuracy: 0.6250\n",
      "Epoch 33/200\n",
      "20/20 [==============================] - 0s 3ms/step - loss: 0.6449 - accuracy: 0.6354 - val_loss: 0.4788 - val_accuracy: 0.6667\n",
      "Epoch 34/200\n",
      "20/20 [==============================] - 0s 3ms/step - loss: 0.5970 - accuracy: 0.6875 - val_loss: 0.4696 - val_accuracy: 0.6667\n",
      "Epoch 35/200\n",
      "20/20 [==============================] - 0s 3ms/step - loss: 0.6490 - accuracy: 0.6250 - val_loss: 0.4651 - val_accuracy: 0.6667\n",
      "Epoch 36/200\n",
      "20/20 [==============================] - 0s 3ms/step - loss: 0.6265 - accuracy: 0.6354 - val_loss: 0.4599 - val_accuracy: 0.6667\n",
      "Epoch 37/200\n",
      "20/20 [==============================] - 0s 3ms/step - loss: 0.5486 - accuracy: 0.7188 - val_loss: 0.4515 - val_accuracy: 0.7500\n",
      "Epoch 38/200\n",
      "20/20 [==============================] - 0s 3ms/step - loss: 0.6092 - accuracy: 0.6354 - val_loss: 0.4434 - val_accuracy: 0.8750\n",
      "Epoch 39/200\n",
      "20/20 [==============================] - 0s 3ms/step - loss: 0.6498 - accuracy: 0.6667 - val_loss: 0.4409 - val_accuracy: 0.8750\n",
      "Epoch 40/200\n",
      "20/20 [==============================] - 0s 3ms/step - loss: 0.6324 - accuracy: 0.6667 - val_loss: 0.4365 - val_accuracy: 0.8333\n",
      "Epoch 41/200\n",
      "20/20 [==============================] - 0s 3ms/step - loss: 0.6044 - accuracy: 0.6875 - val_loss: 0.4310 - val_accuracy: 0.8750\n",
      "Epoch 42/200\n",
      "20/20 [==============================] - 0s 3ms/step - loss: 0.5708 - accuracy: 0.7292 - val_loss: 0.4305 - val_accuracy: 0.8333\n",
      "Epoch 43/200\n",
      "20/20 [==============================] - 0s 3ms/step - loss: 0.5882 - accuracy: 0.7396 - val_loss: 0.4177 - val_accuracy: 0.9167\n",
      "Epoch 44/200\n",
      "20/20 [==============================] - 0s 3ms/step - loss: 0.5795 - accuracy: 0.7812 - val_loss: 0.4116 - val_accuracy: 0.8750\n",
      "Epoch 45/200\n",
      "20/20 [==============================] - 0s 3ms/step - loss: 0.5966 - accuracy: 0.6354 - val_loss: 0.4087 - val_accuracy: 0.8750\n",
      "Epoch 46/200\n",
      "20/20 [==============================] - 0s 3ms/step - loss: 0.5862 - accuracy: 0.6979 - val_loss: 0.4061 - val_accuracy: 0.8750\n",
      "Epoch 47/200\n",
      "20/20 [==============================] - 0s 3ms/step - loss: 0.5669 - accuracy: 0.7500 - val_loss: 0.4036 - val_accuracy: 0.8750\n",
      "Epoch 48/200\n",
      "20/20 [==============================] - 0s 3ms/step - loss: 0.6246 - accuracy: 0.6667 - val_loss: 0.3988 - val_accuracy: 0.8750\n",
      "Epoch 49/200\n",
      "20/20 [==============================] - 0s 3ms/step - loss: 0.5139 - accuracy: 0.7292 - val_loss: 0.3951 - val_accuracy: 0.8750\n",
      "Epoch 50/200\n",
      "20/20 [==============================] - 0s 3ms/step - loss: 0.5818 - accuracy: 0.6667 - val_loss: 0.3914 - val_accuracy: 0.8750\n",
      "Epoch 51/200\n",
      "20/20 [==============================] - 0s 3ms/step - loss: 0.6012 - accuracy: 0.6667 - val_loss: 0.3839 - val_accuracy: 1.0000\n",
      "Epoch 52/200\n",
      "20/20 [==============================] - 0s 3ms/step - loss: 0.5997 - accuracy: 0.7083 - val_loss: 0.3794 - val_accuracy: 0.9167\n",
      "Epoch 53/200\n",
      "20/20 [==============================] - 0s 3ms/step - loss: 0.5943 - accuracy: 0.7292 - val_loss: 0.3787 - val_accuracy: 0.9167\n",
      "Epoch 54/200\n",
      "20/20 [==============================] - 0s 3ms/step - loss: 0.5679 - accuracy: 0.7396 - val_loss: 0.3753 - val_accuracy: 0.9167\n",
      "Epoch 55/200\n",
      "20/20 [==============================] - 0s 4ms/step - loss: 0.5071 - accuracy: 0.8021 - val_loss: 0.3664 - val_accuracy: 0.9167\n",
      "Epoch 56/200\n",
      "20/20 [==============================] - 0s 3ms/step - loss: 0.4811 - accuracy: 0.7396 - val_loss: 0.3506 - val_accuracy: 0.9167\n",
      "Epoch 57/200\n",
      "20/20 [==============================] - 0s 3ms/step - loss: 0.5929 - accuracy: 0.6458 - val_loss: 0.3411 - val_accuracy: 0.8750\n",
      "Epoch 58/200\n",
      "20/20 [==============================] - 0s 3ms/step - loss: 0.5234 - accuracy: 0.7188 - val_loss: 0.3158 - val_accuracy: 1.0000\n",
      "Epoch 59/200\n",
      "20/20 [==============================] - 0s 3ms/step - loss: 0.5017 - accuracy: 0.7917 - val_loss: 0.2913 - val_accuracy: 1.0000\n",
      "Epoch 60/200\n",
      "20/20 [==============================] - 0s 3ms/step - loss: 0.4921 - accuracy: 0.7708 - val_loss: 0.2690 - val_accuracy: 1.0000\n",
      "Epoch 61/200\n",
      "20/20 [==============================] - 0s 3ms/step - loss: 0.5650 - accuracy: 0.7083 - val_loss: 0.2600 - val_accuracy: 1.0000\n",
      "Epoch 62/200\n",
      "20/20 [==============================] - 0s 3ms/step - loss: 0.5197 - accuracy: 0.7083 - val_loss: 0.2575 - val_accuracy: 1.0000\n",
      "Epoch 63/200\n",
      "20/20 [==============================] - 0s 3ms/step - loss: 0.4779 - accuracy: 0.7708 - val_loss: 0.2553 - val_accuracy: 1.0000\n",
      "Epoch 64/200\n",
      "20/20 [==============================] - 0s 3ms/step - loss: 0.4608 - accuracy: 0.7812 - val_loss: 0.2431 - val_accuracy: 0.9583\n",
      "Epoch 65/200\n",
      "20/20 [==============================] - 0s 3ms/step - loss: 0.4706 - accuracy: 0.7708 - val_loss: 0.2412 - val_accuracy: 1.0000\n",
      "Epoch 66/200\n",
      "20/20 [==============================] - 0s 3ms/step - loss: 0.4405 - accuracy: 0.7812 - val_loss: 0.2427 - val_accuracy: 1.0000\n",
      "Epoch 67/200\n",
      "20/20 [==============================] - 0s 3ms/step - loss: 0.5110 - accuracy: 0.7604 - val_loss: 0.2372 - val_accuracy: 1.0000\n",
      "Epoch 68/200\n",
      "20/20 [==============================] - 0s 3ms/step - loss: 0.4671 - accuracy: 0.7604 - val_loss: 0.2420 - val_accuracy: 1.0000\n",
      "Epoch 69/200\n",
      "20/20 [==============================] - 0s 3ms/step - loss: 0.4445 - accuracy: 0.7708 - val_loss: 0.2327 - val_accuracy: 1.0000\n",
      "Epoch 70/200\n",
      "20/20 [==============================] - 0s 3ms/step - loss: 0.4674 - accuracy: 0.7292 - val_loss: 0.2258 - val_accuracy: 0.9167\n",
      "Epoch 71/200\n",
      "20/20 [==============================] - 0s 3ms/step - loss: 0.4660 - accuracy: 0.8021 - val_loss: 0.2291 - val_accuracy: 1.0000\n",
      "Epoch 72/200\n",
      "20/20 [==============================] - 0s 3ms/step - loss: 0.4618 - accuracy: 0.7917 - val_loss: 0.2287 - val_accuracy: 1.0000\n",
      "Epoch 73/200\n",
      "20/20 [==============================] - 0s 3ms/step - loss: 0.4402 - accuracy: 0.7604 - val_loss: 0.2176 - val_accuracy: 1.0000\n",
      "Epoch 74/200\n",
      "20/20 [==============================] - 0s 3ms/step - loss: 0.4568 - accuracy: 0.8125 - val_loss: 0.2142 - val_accuracy: 1.0000\n",
      "Epoch 75/200\n",
      "20/20 [==============================] - 0s 3ms/step - loss: 0.3917 - accuracy: 0.7917 - val_loss: 0.2124 - val_accuracy: 1.0000\n",
      "Epoch 76/200\n",
      "20/20 [==============================] - 0s 3ms/step - loss: 0.4861 - accuracy: 0.7708 - val_loss: 0.2095 - val_accuracy: 1.0000\n",
      "Epoch 77/200\n",
      "20/20 [==============================] - 0s 3ms/step - loss: 0.4428 - accuracy: 0.8125 - val_loss: 0.2054 - val_accuracy: 0.9583\n",
      "Epoch 78/200\n",
      "20/20 [==============================] - 0s 3ms/step - loss: 0.4553 - accuracy: 0.7500 - val_loss: 0.2039 - val_accuracy: 1.0000\n",
      "Epoch 79/200\n",
      "20/20 [==============================] - 0s 3ms/step - loss: 0.4373 - accuracy: 0.7604 - val_loss: 0.2045 - val_accuracy: 1.0000\n",
      "Epoch 80/200\n",
      "20/20 [==============================] - 0s 3ms/step - loss: 0.4566 - accuracy: 0.7812 - val_loss: 0.2014 - val_accuracy: 1.0000\n",
      "Epoch 81/200\n",
      "20/20 [==============================] - 0s 3ms/step - loss: 0.3962 - accuracy: 0.8542 - val_loss: 0.2020 - val_accuracy: 1.0000\n",
      "Epoch 82/200\n",
      "20/20 [==============================] - 0s 3ms/step - loss: 0.4085 - accuracy: 0.8542 - val_loss: 0.2005 - val_accuracy: 1.0000\n",
      "Epoch 83/200\n",
      "20/20 [==============================] - 0s 3ms/step - loss: 0.4078 - accuracy: 0.8438 - val_loss: 0.1909 - val_accuracy: 1.0000\n",
      "Epoch 84/200\n",
      "20/20 [==============================] - 0s 3ms/step - loss: 0.3821 - accuracy: 0.8021 - val_loss: 0.1892 - val_accuracy: 1.0000\n",
      "Epoch 85/200\n",
      "20/20 [==============================] - 0s 3ms/step - loss: 0.5277 - accuracy: 0.7188 - val_loss: 0.1932 - val_accuracy: 1.0000\n",
      "Epoch 86/200\n",
      "20/20 [==============================] - 0s 3ms/step - loss: 0.4032 - accuracy: 0.8438 - val_loss: 0.1953 - val_accuracy: 1.0000\n",
      "Epoch 87/200\n",
      "20/20 [==============================] - 0s 3ms/step - loss: 0.4169 - accuracy: 0.7812 - val_loss: 0.1905 - val_accuracy: 1.0000\n",
      "Epoch 88/200\n",
      "20/20 [==============================] - 0s 3ms/step - loss: 0.4121 - accuracy: 0.8542 - val_loss: 0.1859 - val_accuracy: 1.0000\n",
      "Epoch 89/200\n",
      "20/20 [==============================] - 0s 3ms/step - loss: 0.4577 - accuracy: 0.8229 - val_loss: 0.1811 - val_accuracy: 1.0000\n",
      "Epoch 90/200\n",
      "20/20 [==============================] - 0s 3ms/step - loss: 0.3561 - accuracy: 0.8542 - val_loss: 0.1762 - val_accuracy: 1.0000\n",
      "Epoch 91/200\n",
      "20/20 [==============================] - 0s 3ms/step - loss: 0.3678 - accuracy: 0.8333 - val_loss: 0.1735 - val_accuracy: 1.0000\n",
      "Epoch 92/200\n",
      "20/20 [==============================] - 0s 4ms/step - loss: 0.4240 - accuracy: 0.8021 - val_loss: 0.1725 - val_accuracy: 1.0000\n",
      "Epoch 93/200\n",
      "20/20 [==============================] - 0s 3ms/step - loss: 0.4971 - accuracy: 0.7292 - val_loss: 0.1794 - val_accuracy: 1.0000\n",
      "Epoch 94/200\n",
      "20/20 [==============================] - 0s 3ms/step - loss: 0.3437 - accuracy: 0.8854 - val_loss: 0.1786 - val_accuracy: 1.0000\n",
      "Epoch 95/200\n",
      "20/20 [==============================] - 0s 3ms/step - loss: 0.4041 - accuracy: 0.8438 - val_loss: 0.1737 - val_accuracy: 1.0000\n",
      "Epoch 96/200\n",
      "20/20 [==============================] - 0s 3ms/step - loss: 0.3575 - accuracy: 0.8333 - val_loss: 0.1683 - val_accuracy: 1.0000\n",
      "Epoch 97/200\n",
      "20/20 [==============================] - 0s 3ms/step - loss: 0.3447 - accuracy: 0.8854 - val_loss: 0.1649 - val_accuracy: 1.0000\n",
      "Epoch 98/200\n",
      "20/20 [==============================] - 0s 3ms/step - loss: 0.4105 - accuracy: 0.8125 - val_loss: 0.1622 - val_accuracy: 1.0000\n",
      "Epoch 99/200\n",
      "20/20 [==============================] - 0s 3ms/step - loss: 0.4108 - accuracy: 0.8021 - val_loss: 0.1602 - val_accuracy: 1.0000\n",
      "Epoch 100/200\n",
      "20/20 [==============================] - 0s 3ms/step - loss: 0.3230 - accuracy: 0.9062 - val_loss: 0.1575 - val_accuracy: 1.0000\n",
      "Epoch 101/200\n",
      "20/20 [==============================] - 0s 3ms/step - loss: 0.4606 - accuracy: 0.7500 - val_loss: 0.1575 - val_accuracy: 1.0000\n",
      "Epoch 102/200\n",
      "20/20 [==============================] - 0s 3ms/step - loss: 0.3737 - accuracy: 0.8229 - val_loss: 0.1568 - val_accuracy: 1.0000\n",
      "Epoch 103/200\n",
      "20/20 [==============================] - 0s 3ms/step - loss: 0.4005 - accuracy: 0.7812 - val_loss: 0.1575 - val_accuracy: 1.0000\n",
      "Epoch 104/200\n",
      "20/20 [==============================] - 0s 3ms/step - loss: 0.3390 - accuracy: 0.8646 - val_loss: 0.1547 - val_accuracy: 1.0000\n",
      "Epoch 105/200\n",
      "20/20 [==============================] - 0s 3ms/step - loss: 0.3836 - accuracy: 0.8021 - val_loss: 0.1538 - val_accuracy: 1.0000\n",
      "Epoch 106/200\n",
      "20/20 [==============================] - 0s 3ms/step - loss: 0.3864 - accuracy: 0.8021 - val_loss: 0.1527 - val_accuracy: 1.0000\n",
      "Epoch 107/200\n",
      "20/20 [==============================] - 0s 3ms/step - loss: 0.3560 - accuracy: 0.8021 - val_loss: 0.1615 - val_accuracy: 0.9583\n",
      "Epoch 108/200\n",
      "20/20 [==============================] - 0s 3ms/step - loss: 0.3162 - accuracy: 0.8542 - val_loss: 0.1527 - val_accuracy: 1.0000\n",
      "Epoch 109/200\n",
      "20/20 [==============================] - 0s 3ms/step - loss: 0.4141 - accuracy: 0.7708 - val_loss: 0.1491 - val_accuracy: 1.0000\n",
      "Epoch 110/200\n",
      "20/20 [==============================] - 0s 3ms/step - loss: 0.3977 - accuracy: 0.7812 - val_loss: 0.1490 - val_accuracy: 1.0000\n",
      "Epoch 111/200\n",
      "20/20 [==============================] - 0s 3ms/step - loss: 0.3877 - accuracy: 0.8021 - val_loss: 0.1489 - val_accuracy: 1.0000\n",
      "Epoch 112/200\n",
      "20/20 [==============================] - 0s 3ms/step - loss: 0.4627 - accuracy: 0.7917 - val_loss: 0.1501 - val_accuracy: 1.0000\n",
      "Epoch 113/200\n",
      "20/20 [==============================] - 0s 3ms/step - loss: 0.3470 - accuracy: 0.8333 - val_loss: 0.1451 - val_accuracy: 1.0000\n",
      "Epoch 114/200\n",
      "20/20 [==============================] - 0s 3ms/step - loss: 0.4823 - accuracy: 0.7500 - val_loss: 0.1539 - val_accuracy: 0.9167\n",
      "Epoch 115/200\n",
      "20/20 [==============================] - 0s 3ms/step - loss: 0.3291 - accuracy: 0.8542 - val_loss: 0.1449 - val_accuracy: 1.0000\n",
      "Epoch 116/200\n",
      "20/20 [==============================] - 0s 3ms/step - loss: 0.3610 - accuracy: 0.8021 - val_loss: 0.1444 - val_accuracy: 1.0000\n",
      "Epoch 117/200\n",
      "20/20 [==============================] - 0s 3ms/step - loss: 0.3688 - accuracy: 0.8333 - val_loss: 0.1396 - val_accuracy: 1.0000\n",
      "Epoch 118/200\n",
      "20/20 [==============================] - 0s 3ms/step - loss: 0.3267 - accuracy: 0.8542 - val_loss: 0.1427 - val_accuracy: 1.0000\n",
      "Epoch 119/200\n",
      "20/20 [==============================] - 0s 3ms/step - loss: 0.3391 - accuracy: 0.8646 - val_loss: 0.1358 - val_accuracy: 1.0000\n",
      "Epoch 120/200\n",
      "20/20 [==============================] - 0s 3ms/step - loss: 0.3430 - accuracy: 0.8438 - val_loss: 0.1355 - val_accuracy: 1.0000\n",
      "Epoch 121/200\n",
      "20/20 [==============================] - 0s 3ms/step - loss: 0.3853 - accuracy: 0.7917 - val_loss: 0.1340 - val_accuracy: 1.0000\n",
      "Epoch 122/200\n",
      "20/20 [==============================] - 0s 4ms/step - loss: 0.3090 - accuracy: 0.8646 - val_loss: 0.1316 - val_accuracy: 1.0000\n",
      "Epoch 123/200\n",
      "20/20 [==============================] - 0s 3ms/step - loss: 0.3949 - accuracy: 0.7812 - val_loss: 0.1342 - val_accuracy: 1.0000\n",
      "Epoch 124/200\n",
      "20/20 [==============================] - 0s 3ms/step - loss: 0.4429 - accuracy: 0.7917 - val_loss: 0.1346 - val_accuracy: 1.0000\n",
      "Epoch 125/200\n",
      "20/20 [==============================] - 0s 3ms/step - loss: 0.4521 - accuracy: 0.7396 - val_loss: 0.1390 - val_accuracy: 1.0000\n",
      "Epoch 126/200\n",
      "20/20 [==============================] - 0s 3ms/step - loss: 0.4811 - accuracy: 0.7604 - val_loss: 0.1435 - val_accuracy: 1.0000\n",
      "Epoch 127/200\n",
      "20/20 [==============================] - 0s 3ms/step - loss: 0.3689 - accuracy: 0.8229 - val_loss: 0.1448 - val_accuracy: 1.0000\n",
      "Epoch 128/200\n",
      "20/20 [==============================] - 0s 3ms/step - loss: 0.3510 - accuracy: 0.8542 - val_loss: 0.1391 - val_accuracy: 1.0000\n",
      "Epoch 129/200\n",
      "20/20 [==============================] - 0s 3ms/step - loss: 0.3499 - accuracy: 0.8438 - val_loss: 0.1363 - val_accuracy: 1.0000\n",
      "Epoch 130/200\n",
      "20/20 [==============================] - 0s 3ms/step - loss: 0.3792 - accuracy: 0.8438 - val_loss: 0.1364 - val_accuracy: 1.0000\n",
      "Epoch 131/200\n",
      "20/20 [==============================] - 0s 3ms/step - loss: 0.3203 - accuracy: 0.8333 - val_loss: 0.1340 - val_accuracy: 1.0000\n",
      "Epoch 132/200\n",
      "20/20 [==============================] - 0s 3ms/step - loss: 0.3755 - accuracy: 0.8021 - val_loss: 0.1292 - val_accuracy: 1.0000\n",
      "Epoch 133/200\n",
      "20/20 [==============================] - 0s 3ms/step - loss: 0.3985 - accuracy: 0.8333 - val_loss: 0.1327 - val_accuracy: 1.0000\n",
      "Epoch 134/200\n",
      "20/20 [==============================] - 0s 3ms/step - loss: 0.4095 - accuracy: 0.8229 - val_loss: 0.1308 - val_accuracy: 1.0000\n",
      "Epoch 135/200\n",
      "20/20 [==============================] - 0s 3ms/step - loss: 0.3648 - accuracy: 0.8542 - val_loss: 0.1296 - val_accuracy: 1.0000\n",
      "Epoch 136/200\n",
      "20/20 [==============================] - 0s 3ms/step - loss: 0.2838 - accuracy: 0.8958 - val_loss: 0.1276 - val_accuracy: 1.0000\n",
      "Epoch 137/200\n",
      "20/20 [==============================] - 0s 3ms/step - loss: 0.4099 - accuracy: 0.8125 - val_loss: 0.1283 - val_accuracy: 1.0000\n",
      "Epoch 138/200\n",
      "20/20 [==============================] - 0s 3ms/step - loss: 0.3702 - accuracy: 0.8542 - val_loss: 0.1239 - val_accuracy: 1.0000\n",
      "Epoch 139/200\n",
      "20/20 [==============================] - 0s 3ms/step - loss: 0.3427 - accuracy: 0.8333 - val_loss: 0.1219 - val_accuracy: 1.0000\n",
      "Epoch 140/200\n",
      "20/20 [==============================] - 0s 3ms/step - loss: 0.2883 - accuracy: 0.9062 - val_loss: 0.1212 - val_accuracy: 1.0000\n",
      "Epoch 141/200\n",
      "20/20 [==============================] - 0s 3ms/step - loss: 0.3009 - accuracy: 0.8750 - val_loss: 0.1210 - val_accuracy: 1.0000\n",
      "Epoch 142/200\n",
      "20/20 [==============================] - 0s 3ms/step - loss: 0.3015 - accuracy: 0.8438 - val_loss: 0.1188 - val_accuracy: 1.0000\n",
      "Epoch 143/200\n",
      "20/20 [==============================] - 0s 3ms/step - loss: 0.3700 - accuracy: 0.8542 - val_loss: 0.1183 - val_accuracy: 1.0000\n",
      "Epoch 144/200\n",
      "20/20 [==============================] - 0s 3ms/step - loss: 0.3527 - accuracy: 0.8750 - val_loss: 0.1187 - val_accuracy: 1.0000\n",
      "Epoch 145/200\n",
      "20/20 [==============================] - 0s 3ms/step - loss: 0.3190 - accuracy: 0.8438 - val_loss: 0.1217 - val_accuracy: 1.0000\n",
      "Epoch 146/200\n",
      "20/20 [==============================] - 0s 3ms/step - loss: 0.3596 - accuracy: 0.8438 - val_loss: 0.1194 - val_accuracy: 1.0000\n",
      "Epoch 147/200\n",
      "20/20 [==============================] - 0s 3ms/step - loss: 0.3127 - accuracy: 0.8750 - val_loss: 0.1158 - val_accuracy: 1.0000\n",
      "Epoch 148/200\n",
      "20/20 [==============================] - 0s 3ms/step - loss: 0.3666 - accuracy: 0.8229 - val_loss: 0.1140 - val_accuracy: 1.0000\n",
      "Epoch 149/200\n",
      "20/20 [==============================] - 0s 3ms/step - loss: 0.3565 - accuracy: 0.8229 - val_loss: 0.1162 - val_accuracy: 1.0000\n",
      "Epoch 150/200\n",
      "20/20 [==============================] - 0s 3ms/step - loss: 0.3705 - accuracy: 0.8438 - val_loss: 0.1158 - val_accuracy: 1.0000\n",
      "Epoch 151/200\n",
      "20/20 [==============================] - 0s 3ms/step - loss: 0.3213 - accuracy: 0.8333 - val_loss: 0.1205 - val_accuracy: 1.0000\n",
      "Epoch 152/200\n",
      "20/20 [==============================] - 0s 3ms/step - loss: 0.3349 - accuracy: 0.8646 - val_loss: 0.1265 - val_accuracy: 1.0000\n",
      "Epoch 153/200\n",
      "20/20 [==============================] - 0s 3ms/step - loss: 0.3167 - accuracy: 0.8646 - val_loss: 0.1155 - val_accuracy: 1.0000\n",
      "Epoch 154/200\n",
      "20/20 [==============================] - 0s 3ms/step - loss: 0.2912 - accuracy: 0.8958 - val_loss: 0.1090 - val_accuracy: 1.0000\n",
      "Epoch 155/200\n",
      "20/20 [==============================] - 0s 3ms/step - loss: 0.2629 - accuracy: 0.8646 - val_loss: 0.1102 - val_accuracy: 1.0000\n",
      "Epoch 156/200\n",
      "20/20 [==============================] - 0s 3ms/step - loss: 0.3303 - accuracy: 0.8438 - val_loss: 0.1108 - val_accuracy: 1.0000\n",
      "Epoch 157/200\n",
      "20/20 [==============================] - 0s 3ms/step - loss: 0.3271 - accuracy: 0.8229 - val_loss: 0.1068 - val_accuracy: 1.0000\n",
      "Epoch 158/200\n",
      "20/20 [==============================] - 0s 3ms/step - loss: 0.3400 - accuracy: 0.8333 - val_loss: 0.1077 - val_accuracy: 1.0000\n",
      "Epoch 159/200\n",
      "20/20 [==============================] - 0s 3ms/step - loss: 0.3091 - accuracy: 0.8438 - val_loss: 0.1049 - val_accuracy: 1.0000\n",
      "Epoch 160/200\n",
      "20/20 [==============================] - 0s 3ms/step - loss: 0.3162 - accuracy: 0.8542 - val_loss: 0.1090 - val_accuracy: 1.0000\n",
      "Epoch 161/200\n",
      "20/20 [==============================] - 0s 3ms/step - loss: 0.3149 - accuracy: 0.8542 - val_loss: 0.1067 - val_accuracy: 1.0000\n",
      "Epoch 162/200\n",
      "20/20 [==============================] - 0s 3ms/step - loss: 0.2951 - accuracy: 0.8438 - val_loss: 0.1095 - val_accuracy: 1.0000\n",
      "Epoch 163/200\n",
      "20/20 [==============================] - 0s 3ms/step - loss: 0.2572 - accuracy: 0.8750 - val_loss: 0.1076 - val_accuracy: 1.0000\n",
      "Epoch 164/200\n",
      "20/20 [==============================] - 0s 3ms/step - loss: 0.2708 - accuracy: 0.8750 - val_loss: 0.1102 - val_accuracy: 1.0000\n",
      "Epoch 165/200\n",
      "20/20 [==============================] - 0s 3ms/step - loss: 0.3676 - accuracy: 0.7917 - val_loss: 0.1054 - val_accuracy: 1.0000\n",
      "Epoch 166/200\n",
      "20/20 [==============================] - 0s 3ms/step - loss: 0.3089 - accuracy: 0.8646 - val_loss: 0.1029 - val_accuracy: 1.0000\n",
      "Epoch 167/200\n",
      "20/20 [==============================] - 0s 3ms/step - loss: 0.3649 - accuracy: 0.8646 - val_loss: 0.1047 - val_accuracy: 1.0000\n",
      "Epoch 168/200\n",
      "20/20 [==============================] - 0s 3ms/step - loss: 0.3470 - accuracy: 0.8542 - val_loss: 0.1035 - val_accuracy: 1.0000\n",
      "Epoch 169/200\n",
      "20/20 [==============================] - 0s 3ms/step - loss: 0.3466 - accuracy: 0.8125 - val_loss: 0.1062 - val_accuracy: 1.0000\n",
      "Epoch 170/200\n",
      "20/20 [==============================] - 0s 3ms/step - loss: 0.2991 - accuracy: 0.9062 - val_loss: 0.1056 - val_accuracy: 1.0000\n",
      "Epoch 171/200\n",
      "20/20 [==============================] - 0s 3ms/step - loss: 0.3034 - accuracy: 0.8646 - val_loss: 0.1060 - val_accuracy: 1.0000\n",
      "Epoch 172/200\n",
      "20/20 [==============================] - 0s 3ms/step - loss: 0.3042 - accuracy: 0.8750 - val_loss: 0.1056 - val_accuracy: 1.0000\n",
      "Epoch 173/200\n",
      "20/20 [==============================] - 0s 3ms/step - loss: 0.2986 - accuracy: 0.9167 - val_loss: 0.1034 - val_accuracy: 1.0000\n",
      "Epoch 174/200\n",
      "20/20 [==============================] - 0s 3ms/step - loss: 0.3489 - accuracy: 0.8542 - val_loss: 0.1131 - val_accuracy: 0.9167\n",
      "Epoch 175/200\n",
      "20/20 [==============================] - 0s 3ms/step - loss: 0.3312 - accuracy: 0.8542 - val_loss: 0.0999 - val_accuracy: 1.0000\n",
      "Epoch 176/200\n",
      "20/20 [==============================] - 0s 3ms/step - loss: 0.3145 - accuracy: 0.8438 - val_loss: 0.1016 - val_accuracy: 1.0000\n",
      "Epoch 177/200\n",
      "20/20 [==============================] - 0s 3ms/step - loss: 0.2999 - accuracy: 0.8646 - val_loss: 0.0983 - val_accuracy: 1.0000\n",
      "Epoch 178/200\n",
      "20/20 [==============================] - 0s 3ms/step - loss: 0.3585 - accuracy: 0.8021 - val_loss: 0.1029 - val_accuracy: 1.0000\n",
      "Epoch 179/200\n",
      "20/20 [==============================] - 0s 3ms/step - loss: 0.2737 - accuracy: 0.8646 - val_loss: 0.0949 - val_accuracy: 1.0000\n",
      "Epoch 180/200\n",
      "20/20 [==============================] - 0s 3ms/step - loss: 0.2439 - accuracy: 0.9271 - val_loss: 0.0933 - val_accuracy: 1.0000\n",
      "Epoch 181/200\n",
      "20/20 [==============================] - 0s 3ms/step - loss: 0.3022 - accuracy: 0.8958 - val_loss: 0.0930 - val_accuracy: 1.0000\n",
      "Epoch 182/200\n",
      "20/20 [==============================] - 0s 4ms/step - loss: 0.3352 - accuracy: 0.8333 - val_loss: 0.0946 - val_accuracy: 1.0000\n",
      "Epoch 183/200\n",
      "20/20 [==============================] - 0s 3ms/step - loss: 0.3101 - accuracy: 0.8750 - val_loss: 0.0940 - val_accuracy: 1.0000\n",
      "Epoch 184/200\n",
      "20/20 [==============================] - 0s 3ms/step - loss: 0.3493 - accuracy: 0.8438 - val_loss: 0.1011 - val_accuracy: 1.0000\n",
      "Epoch 185/200\n",
      "20/20 [==============================] - 0s 3ms/step - loss: 0.2947 - accuracy: 0.8229 - val_loss: 0.0953 - val_accuracy: 1.0000\n",
      "Epoch 186/200\n",
      "20/20 [==============================] - 0s 3ms/step - loss: 0.3423 - accuracy: 0.8125 - val_loss: 0.0961 - val_accuracy: 1.0000\n",
      "Epoch 187/200\n",
      "20/20 [==============================] - 0s 3ms/step - loss: 0.2627 - accuracy: 0.8958 - val_loss: 0.0968 - val_accuracy: 1.0000\n",
      "Epoch 188/200\n",
      "20/20 [==============================] - 0s 3ms/step - loss: 0.2844 - accuracy: 0.8646 - val_loss: 0.0943 - val_accuracy: 1.0000\n",
      "Epoch 189/200\n",
      "20/20 [==============================] - 0s 3ms/step - loss: 0.2779 - accuracy: 0.9062 - val_loss: 0.0930 - val_accuracy: 1.0000\n",
      "Epoch 190/200\n",
      "20/20 [==============================] - 0s 3ms/step - loss: 0.2926 - accuracy: 0.8333 - val_loss: 0.0913 - val_accuracy: 1.0000\n",
      "Epoch 191/200\n",
      "20/20 [==============================] - 0s 3ms/step - loss: 0.2953 - accuracy: 0.8750 - val_loss: 0.0918 - val_accuracy: 1.0000\n",
      "Epoch 192/200\n",
      "20/20 [==============================] - 0s 3ms/step - loss: 0.3381 - accuracy: 0.8333 - val_loss: 0.0880 - val_accuracy: 1.0000\n",
      "Epoch 193/200\n",
      "20/20 [==============================] - 0s 3ms/step - loss: 0.2795 - accuracy: 0.8750 - val_loss: 0.0903 - val_accuracy: 1.0000\n",
      "Epoch 194/200\n",
      "20/20 [==============================] - 0s 3ms/step - loss: 0.2736 - accuracy: 0.8646 - val_loss: 0.1024 - val_accuracy: 1.0000\n",
      "Epoch 195/200\n",
      "20/20 [==============================] - 0s 3ms/step - loss: 0.3235 - accuracy: 0.8646 - val_loss: 0.0915 - val_accuracy: 1.0000\n",
      "Epoch 196/200\n",
      "20/20 [==============================] - 0s 3ms/step - loss: 0.3011 - accuracy: 0.8333 - val_loss: 0.0921 - val_accuracy: 1.0000\n",
      "Epoch 197/200\n",
      "20/20 [==============================] - 0s 3ms/step - loss: 0.3392 - accuracy: 0.8021 - val_loss: 0.0876 - val_accuracy: 1.0000\n",
      "Epoch 198/200\n",
      "20/20 [==============================] - 0s 3ms/step - loss: 0.2560 - accuracy: 0.8854 - val_loss: 0.0904 - val_accuracy: 1.0000\n",
      "Epoch 199/200\n",
      "20/20 [==============================] - 0s 3ms/step - loss: 0.3383 - accuracy: 0.8125 - val_loss: 0.0896 - val_accuracy: 1.0000\n",
      "Epoch 200/200\n",
      "20/20 [==============================] - 0s 3ms/step - loss: 0.2263 - accuracy: 0.8958 - val_loss: 0.0853 - val_accuracy: 1.0000\n"
     ]
    }
   ],
   "source": [
    "# Train the model\n",
    "history = model.fit(train_x, train_y,\n",
    "          epochs=200,\n",
    "          batch_size=5, validation_split=0.2)"
   ]
  },
  {
   "cell_type": "markdown",
   "metadata": {},
   "source": [
    "# <div style=\"direction:rtl;text-align:right;font-family:B Lotus, B Nazanin, Tahoma\">سوال 4:</div>\n",
    "<div style=\"direction:rtl;text-align:right;font-family:Tahoma\">\n",
    "مدل را روی داده های test ارزیابی کنید.\n",
    "<br>\n",
    "<b>راهنمایی: </b>\n",
    "از تابع model.evaluate استفاده کنید.\n",
    "</div>"
   ]
  },
  {
   "cell_type": "code",
   "execution_count": 13,
   "metadata": {},
   "outputs": [
    {
     "name": "stdout",
     "output_type": "stream",
     "text": [
      "1/1 [==============================] - 0s 20ms/step - loss: 0.0484 - accuracy: 1.0000\n",
      "Final test set loss: 0.048361\n",
      "Final test set accuracy: 1.000000\n"
     ]
    }
   ],
   "source": [
    "# Test on unseen data\n",
    "results = model.evaluate(test_x, test_y)\n",
    "\n",
    "print('Final test set loss: {:4f}'.format(results[0]))\n",
    "print('Final test set accuracy: {:4f}'.format(results[1]))"
   ]
  },
  {
   "cell_type": "code",
   "execution_count": null,
   "metadata": {},
   "outputs": [],
   "source": []
  },
  {
   "cell_type": "code",
   "execution_count": null,
   "metadata": {},
   "outputs": [],
   "source": []
  },
  {
   "cell_type": "code",
   "execution_count": null,
   "metadata": {},
   "outputs": [],
   "source": []
  },
  {
   "cell_type": "code",
   "execution_count": null,
   "metadata": {},
   "outputs": [],
   "source": []
  },
  {
   "cell_type": "markdown",
   "metadata": {},
   "source": [
    "# Ex 1-2"
   ]
  },
  {
   "cell_type": "code",
   "execution_count": 15,
   "metadata": {},
   "outputs": [
    {
     "name": "stdout",
     "output_type": "stream",
     "text": [
      "Downloading data from https://storage.googleapis.com/tensorflow/tf-keras-datasets/train-labels-idx1-ubyte.gz\n",
      "29515/29515 [==============================] - 0s 6us/step\n",
      "Downloading data from https://storage.googleapis.com/tensorflow/tf-keras-datasets/train-images-idx3-ubyte.gz\n",
      "26421880/26421880 [==============================] - 36s 1us/step\n",
      "Downloading data from https://storage.googleapis.com/tensorflow/tf-keras-datasets/t10k-labels-idx1-ubyte.gz\n",
      "5148/5148 [==============================] - 0s 0s/step\n",
      "Downloading data from https://storage.googleapis.com/tensorflow/tf-keras-datasets/t10k-images-idx3-ubyte.gz\n",
      "4422102/4422102 [==============================] - 4s 1us/step\n"
     ]
    }
   ],
   "source": [
    "import tensorflow as tf\n",
    "\n",
    "fashion_mnist = keras.datasets.fashion_mnist\n",
    "(train_images, train_labels), (test_images, test_labels) = fashion_mnist.load_data()\n"
   ]
  },
  {
   "cell_type": "code",
   "execution_count": 79,
   "metadata": {},
   "outputs": [
    {
     "data": {
      "text/plain": [
       "(60000, 28, 28)"
      ]
     },
     "execution_count": 79,
     "metadata": {},
     "output_type": "execute_result"
    }
   ],
   "source": [
    "train_images.shape"
   ]
  },
  {
   "cell_type": "code",
   "execution_count": null,
   "metadata": {},
   "outputs": [],
   "source": []
  },
  {
   "cell_type": "code",
   "execution_count": 1,
   "metadata": {},
   "outputs": [
    {
     "name": "stderr",
     "output_type": "stream",
     "text": [
      "C:\\Users\\14003275\\AppData\\Local\\Programs\\Python\\Python310\\lib\\site-packages\\scipy\\__init__.py:155: UserWarning: A NumPy version >=1.18.5 and <1.25.0 is required for this version of SciPy (detected version 1.26.1\n",
      "  warnings.warn(f\"A NumPy version >={np_minversion} and <{np_maxversion}\"\n"
     ]
    }
   ],
   "source": [
    "import numpy as np\n",
    "from tensorflow import keras\n",
    "from sklearn.datasets import load_iris\n",
    "from sklearn.model_selection import train_test_split\n",
    "from keras.models import Sequential\n",
    "from keras.layers import Dense, Dropout\n",
    "from tensorflow.keras.optimizers import Adam\n",
    "import tensorflow as tf"
   ]
  },
  {
   "cell_type": "code",
   "execution_count": 62,
   "metadata": {},
   "outputs": [],
   "source": [
    "fashion_mnist = keras.datasets.fashion_mnist\n",
    "(train_images, train_labels), (test_images, test_labels) = fashion_mnist.load_data()"
   ]
  },
  {
   "cell_type": "code",
   "execution_count": 63,
   "metadata": {},
   "outputs": [
    {
     "data": {
      "text/plain": [
       "array([0, 1, 2, 3, 4, 5, 6, 7, 8, 9], dtype=uint8)"
      ]
     },
     "execution_count": 63,
     "metadata": {},
     "output_type": "execute_result"
    }
   ],
   "source": [
    "np.unique(train_labels)"
   ]
  },
  {
   "cell_type": "code",
   "execution_count": 4,
   "metadata": {},
   "outputs": [
    {
     "data": {
      "text/plain": [
       "<matplotlib.image.AxesImage at 0x26dc6ff0820>"
      ]
     },
     "execution_count": 4,
     "metadata": {},
     "output_type": "execute_result"
    },
    {
     "data": {
      "image/png": "[encoded data removed]",
      "text/plain": [
       "<Figure size 640x480 with 1 Axes>"
      ]
     },
     "metadata": {},
     "output_type": "display_data"
    }
   ],
   "source": [
    "import matplotlib.pyplot as plt\n",
    "%matplotlib inline\n",
    "plt.imshow(train_images[17])"
   ]
  },
  {
   "cell_type": "code",
   "execution_count": 20,
   "metadata": {},
   "outputs": [
    {
     "data": {
      "text/plain": [
       "<matplotlib.image.AxesImage at 0x27b48024880>"
      ]
     },
     "execution_count": 20,
     "metadata": {},
     "output_type": "execute_result"
    },
    {
     "data": {
      "image/png": "[encoded data removed]",
      "text/plain": [
       "<Figure size 640x480 with 1 Axes>"
      ]
     },
     "metadata": {},
     "output_type": "display_data"
    }
   ],
   "source": [
    "plt.imshow(train_images[1700])"
   ]
  },
  {
   "cell_type": "code",
   "execution_count": 21,
   "metadata": {},
   "outputs": [
    {
     "name": "stdout",
     "output_type": "stream",
     "text": [
      "9\n"
     ]
    }
   ],
   "source": [
    "print(train_labels[1700])"
   ]
  },
  {
   "cell_type": "code",
   "execution_count": 22,
   "metadata": {},
   "outputs": [
    {
     "data": {
      "text/plain": [
       "<matplotlib.image.AxesImage at 0x27b481b3c10>"
      ]
     },
     "execution_count": 22,
     "metadata": {},
     "output_type": "execute_result"
    },
    {
     "data": {
      "image/png": "[encoded data removed]",
      "text/plain": [
       "<Figure size 640x480 with 1 Axes>"
      ]
     },
     "metadata": {},
     "output_type": "display_data"
    }
   ],
   "source": [
    "plt.imshow(train_images[27000])"
   ]
  },
  {
   "cell_type": "code",
   "execution_count": 24,
   "metadata": {},
   "outputs": [
    {
     "data": {
      "text/plain": [
       "<matplotlib.image.AxesImage at 0x27b48226800>"
      ]
     },
     "execution_count": 24,
     "metadata": {},
     "output_type": "execute_result"
    },
    {
     "data": {
      "image/png": "[encoded data removed]",
      "text/plain": [
       "<Figure size 640x480 with 1 Axes>"
      ]
     },
     "metadata": {},
     "output_type": "display_data"
    }
   ],
   "source": [
    "plt.imshow(train_images[50000])"
   ]
  },
  {
   "cell_type": "code",
   "execution_count": 25,
   "metadata": {},
   "outputs": [
    {
     "name": "stdout",
     "output_type": "stream",
     "text": [
      "9\n"
     ]
    }
   ],
   "source": [
    "print(train_labels[50000])"
   ]
  },
  {
   "cell_type": "code",
   "execution_count": 64,
   "metadata": {},
   "outputs": [],
   "source": [
    "x_train = train_images.astype('float32')\n",
    "x_test = test_images.astype('float32')\n",
    "x_train /= 255\n",
    "x_test /= 255"
   ]
  },
  {
   "cell_type": "code",
   "execution_count": 45,
   "metadata": {},
   "outputs": [],
   "source": [
    "from keras.layers import Flatten\n",
    "model = Sequential()\n",
    "model.add(Flatten(input_shape=(28,28)))\n",
    "model.add(Dense(768, activation='relu'))\n",
    "model.add(Dropout(0.4))\n",
    "model.add(Dense(512, activation='relu'))\n",
    "# model.add(Dense(256, activation='relu'))\n",
    "model.add(Dropout(0.3))\n",
    "model.add(Dense(10))"
   ]
  },
  {
   "cell_type": "code",
   "execution_count": 46,
   "metadata": {},
   "outputs": [
    {
     "name": "stdout",
     "output_type": "stream",
     "text": [
      "Model: \"sequential_4\"\n",
      "_________________________________________________________________\n",
      " Layer (type)                Output Shape              Param #   \n",
      "=================================================================\n",
      " flatten_3 (Flatten)         (None, 784)               0         \n",
      "                                                                 \n",
      " dense_11 (Dense)            (None, 768)               602880    \n",
      "                                                                 \n",
      " dropout (Dropout)           (None, 768)               0         \n",
      "                                                                 \n",
      " dense_12 (Dense)            (None, 512)               393728    \n",
      "                                                                 \n",
      " dropout_1 (Dropout)         (None, 512)               0         \n",
      "                                                                 \n",
      " dense_13 (Dense)            (None, 10)                5130      \n",
      "                                                                 \n",
      "=================================================================\n",
      "Total params: 1001738 (3.82 MB)\n",
      "Trainable params: 1001738 (3.82 MB)\n",
      "Non-trainable params: 0 (0.00 Byte)\n",
      "_________________________________________________________________\n"
     ]
    }
   ],
   "source": [
    "model.summary()"
   ]
  },
  {
   "cell_type": "code",
   "execution_count": 47,
   "metadata": {},
   "outputs": [
    {
     "name": "stdout",
     "output_type": "stream",
     "text": [
      "Epoch 1/100\n",
      "750/750 [==============================] - 15s 18ms/step - loss: 0.5685 - sparse_categorical_accuracy: 0.7930 - val_loss: 0.4055 - val_sparse_categorical_accuracy: 0.8518\n",
      "Epoch 2/100\n",
      "750/750 [==============================] - 14s 19ms/step - loss: 0.4362 - sparse_categorical_accuracy: 0.8422 - val_loss: 0.3695 - val_sparse_categorical_accuracy: 0.8654\n",
      "Epoch 3/100\n",
      "750/750 [==============================] - 14s 19ms/step - loss: 0.3993 - sparse_categorical_accuracy: 0.8536 - val_loss: 0.3495 - val_sparse_categorical_accuracy: 0.8708\n",
      "Epoch 4/100\n",
      "750/750 [==============================] - 13s 18ms/step - loss: 0.3780 - sparse_categorical_accuracy: 0.8595 - val_loss: 0.3443 - val_sparse_categorical_accuracy: 0.8716\n",
      "Epoch 5/100\n",
      "750/750 [==============================] - 14s 19ms/step - loss: 0.3622 - sparse_categorical_accuracy: 0.8653 - val_loss: 0.3460 - val_sparse_categorical_accuracy: 0.8729\n",
      "Epoch 6/100\n",
      "750/750 [==============================] - 14s 19ms/step - loss: 0.3512 - sparse_categorical_accuracy: 0.8707 - val_loss: 0.3341 - val_sparse_categorical_accuracy: 0.8763\n",
      "Epoch 7/100\n",
      "750/750 [==============================] - 13s 17ms/step - loss: 0.3418 - sparse_categorical_accuracy: 0.8740 - val_loss: 0.3241 - val_sparse_categorical_accuracy: 0.8802\n",
      "Epoch 8/100\n",
      "750/750 [==============================] - 13s 18ms/step - loss: 0.3303 - sparse_categorical_accuracy: 0.8764 - val_loss: 0.3221 - val_sparse_categorical_accuracy: 0.8836\n",
      "Epoch 9/100\n",
      "750/750 [==============================] - 13s 17ms/step - loss: 0.3279 - sparse_categorical_accuracy: 0.8789 - val_loss: 0.3395 - val_sparse_categorical_accuracy: 0.8767\n",
      "Epoch 10/100\n",
      "750/750 [==============================] - 13s 17ms/step - loss: 0.3175 - sparse_categorical_accuracy: 0.8811 - val_loss: 0.3278 - val_sparse_categorical_accuracy: 0.8842\n",
      "Epoch 11/100\n",
      "750/750 [==============================] - 13s 17ms/step - loss: 0.3151 - sparse_categorical_accuracy: 0.8827 - val_loss: 0.3316 - val_sparse_categorical_accuracy: 0.8805\n",
      "Epoch 12/100\n",
      "750/750 [==============================] - 13s 18ms/step - loss: 0.3093 - sparse_categorical_accuracy: 0.8841 - val_loss: 0.3198 - val_sparse_categorical_accuracy: 0.8813\n",
      "Epoch 13/100\n",
      "750/750 [==============================] - 12s 17ms/step - loss: 0.2963 - sparse_categorical_accuracy: 0.8887 - val_loss: 0.3221 - val_sparse_categorical_accuracy: 0.8857\n",
      "Epoch 14/100\n",
      "750/750 [==============================] - 13s 17ms/step - loss: 0.3012 - sparse_categorical_accuracy: 0.8880 - val_loss: 0.3283 - val_sparse_categorical_accuracy: 0.8862\n",
      "Epoch 15/100\n",
      "750/750 [==============================] - 12s 17ms/step - loss: 0.2912 - sparse_categorical_accuracy: 0.8899 - val_loss: 0.3127 - val_sparse_categorical_accuracy: 0.8854\n",
      "Epoch 16/100\n",
      "750/750 [==============================] - 13s 17ms/step - loss: 0.2901 - sparse_categorical_accuracy: 0.8926 - val_loss: 0.3172 - val_sparse_categorical_accuracy: 0.8849\n",
      "Epoch 17/100\n",
      "750/750 [==============================] - 13s 18ms/step - loss: 0.2859 - sparse_categorical_accuracy: 0.8940 - val_loss: 0.3102 - val_sparse_categorical_accuracy: 0.8864\n",
      "Epoch 18/100\n",
      "750/750 [==============================] - 13s 17ms/step - loss: 0.2822 - sparse_categorical_accuracy: 0.8941 - val_loss: 0.3005 - val_sparse_categorical_accuracy: 0.8927\n",
      "Epoch 19/100\n",
      "750/750 [==============================] - 12s 16ms/step - loss: 0.2765 - sparse_categorical_accuracy: 0.8951 - val_loss: 0.3064 - val_sparse_categorical_accuracy: 0.8917\n",
      "Epoch 20/100\n",
      "750/750 [==============================] - 13s 17ms/step - loss: 0.2732 - sparse_categorical_accuracy: 0.8954 - val_loss: 0.3186 - val_sparse_categorical_accuracy: 0.8857\n",
      "Epoch 21/100\n",
      "750/750 [==============================] - 14s 19ms/step - loss: 0.2720 - sparse_categorical_accuracy: 0.8999 - val_loss: 0.3057 - val_sparse_categorical_accuracy: 0.8879\n",
      "Epoch 22/100\n",
      "750/750 [==============================] - 13s 17ms/step - loss: 0.2643 - sparse_categorical_accuracy: 0.9014 - val_loss: 0.3183 - val_sparse_categorical_accuracy: 0.8859\n",
      "Epoch 23/100\n",
      "750/750 [==============================] - 13s 17ms/step - loss: 0.2673 - sparse_categorical_accuracy: 0.8989 - val_loss: 0.3060 - val_sparse_categorical_accuracy: 0.8939\n",
      "Epoch 24/100\n",
      "750/750 [==============================] - 14s 19ms/step - loss: 0.2634 - sparse_categorical_accuracy: 0.9011 - val_loss: 0.3127 - val_sparse_categorical_accuracy: 0.8879\n",
      "Epoch 25/100\n",
      "750/750 [==============================] - 13s 18ms/step - loss: 0.2588 - sparse_categorical_accuracy: 0.9025 - val_loss: 0.3023 - val_sparse_categorical_accuracy: 0.8926\n",
      "Epoch 26/100\n",
      "750/750 [==============================] - 13s 17ms/step - loss: 0.2629 - sparse_categorical_accuracy: 0.9011 - val_loss: 0.3035 - val_sparse_categorical_accuracy: 0.8947\n",
      "Epoch 27/100\n",
      "750/750 [==============================] - 13s 17ms/step - loss: 0.2549 - sparse_categorical_accuracy: 0.9044 - val_loss: 0.3108 - val_sparse_categorical_accuracy: 0.8896\n",
      "Epoch 28/100\n",
      "750/750 [==============================] - 13s 17ms/step - loss: 0.2525 - sparse_categorical_accuracy: 0.9052 - val_loss: 0.3051 - val_sparse_categorical_accuracy: 0.8947\n",
      "Epoch 29/100\n",
      "750/750 [==============================] - 13s 18ms/step - loss: 0.2532 - sparse_categorical_accuracy: 0.9050 - val_loss: 0.3016 - val_sparse_categorical_accuracy: 0.8953\n",
      "Epoch 30/100\n",
      "750/750 [==============================] - 13s 17ms/step - loss: 0.2500 - sparse_categorical_accuracy: 0.9065 - val_loss: 0.3012 - val_sparse_categorical_accuracy: 0.8949\n",
      "Epoch 31/100\n",
      "750/750 [==============================] - 13s 17ms/step - loss: 0.2479 - sparse_categorical_accuracy: 0.9073 - val_loss: 0.3009 - val_sparse_categorical_accuracy: 0.8931\n",
      "Epoch 32/100\n",
      "750/750 [==============================] - 13s 17ms/step - loss: 0.2441 - sparse_categorical_accuracy: 0.9069 - val_loss: 0.3076 - val_sparse_categorical_accuracy: 0.8958\n",
      "Epoch 33/100\n",
      "750/750 [==============================] - 13s 17ms/step - loss: 0.2405 - sparse_categorical_accuracy: 0.9105 - val_loss: 0.2986 - val_sparse_categorical_accuracy: 0.8977\n",
      "Epoch 34/100\n",
      "750/750 [==============================] - 13s 18ms/step - loss: 0.2396 - sparse_categorical_accuracy: 0.9104 - val_loss: 0.3068 - val_sparse_categorical_accuracy: 0.8947\n",
      "Epoch 35/100\n",
      "750/750 [==============================] - 13s 17ms/step - loss: 0.2364 - sparse_categorical_accuracy: 0.9110 - val_loss: 0.3073 - val_sparse_categorical_accuracy: 0.8963\n",
      "Epoch 36/100\n",
      "750/750 [==============================] - 14s 19ms/step - loss: 0.2341 - sparse_categorical_accuracy: 0.9116 - val_loss: 0.3162 - val_sparse_categorical_accuracy: 0.8964\n",
      "Epoch 37/100\n",
      "750/750 [==============================] - 13s 17ms/step - loss: 0.2346 - sparse_categorical_accuracy: 0.9114 - val_loss: 0.3067 - val_sparse_categorical_accuracy: 0.8942\n",
      "Epoch 38/100\n",
      "750/750 [==============================] - 13s 18ms/step - loss: 0.2321 - sparse_categorical_accuracy: 0.9130 - val_loss: 0.3036 - val_sparse_categorical_accuracy: 0.8982\n",
      "Epoch 39/100\n",
      "750/750 [==============================] - 13s 17ms/step - loss: 0.2262 - sparse_categorical_accuracy: 0.9148 - val_loss: 0.3072 - val_sparse_categorical_accuracy: 0.8947\n",
      "Epoch 40/100\n",
      "750/750 [==============================] - 13s 18ms/step - loss: 0.2282 - sparse_categorical_accuracy: 0.9144 - val_loss: 0.3055 - val_sparse_categorical_accuracy: 0.8923\n",
      "Epoch 41/100\n",
      "750/750 [==============================] - 13s 17ms/step - loss: 0.2242 - sparse_categorical_accuracy: 0.9149 - val_loss: 0.3085 - val_sparse_categorical_accuracy: 0.8945\n",
      "Epoch 42/100\n",
      "750/750 [==============================] - 13s 18ms/step - loss: 0.2271 - sparse_categorical_accuracy: 0.9142 - val_loss: 0.3098 - val_sparse_categorical_accuracy: 0.8979\n",
      "Epoch 43/100\n",
      "750/750 [==============================] - 13s 18ms/step - loss: 0.2206 - sparse_categorical_accuracy: 0.9162 - val_loss: 0.3121 - val_sparse_categorical_accuracy: 0.8977\n",
      "Epoch 44/100\n",
      "750/750 [==============================] - 13s 17ms/step - loss: 0.2244 - sparse_categorical_accuracy: 0.9156 - val_loss: 0.3134 - val_sparse_categorical_accuracy: 0.8965\n",
      "Epoch 45/100\n",
      "750/750 [==============================] - 12s 16ms/step - loss: 0.2215 - sparse_categorical_accuracy: 0.9164 - val_loss: 0.3142 - val_sparse_categorical_accuracy: 0.8918\n",
      "Epoch 46/100\n",
      "750/750 [==============================] - 13s 17ms/step - loss: 0.2186 - sparse_categorical_accuracy: 0.9177 - val_loss: 0.3133 - val_sparse_categorical_accuracy: 0.8974\n",
      "Epoch 47/100\n",
      "750/750 [==============================] - 13s 17ms/step - loss: 0.2223 - sparse_categorical_accuracy: 0.9177 - val_loss: 0.3062 - val_sparse_categorical_accuracy: 0.8971\n",
      "Epoch 48/100\n",
      "750/750 [==============================] - 12s 17ms/step - loss: 0.2134 - sparse_categorical_accuracy: 0.9185 - val_loss: 0.3120 - val_sparse_categorical_accuracy: 0.8972\n",
      "Epoch 49/100\n",
      "750/750 [==============================] - 13s 17ms/step - loss: 0.2156 - sparse_categorical_accuracy: 0.9191 - val_loss: 0.3235 - val_sparse_categorical_accuracy: 0.8956\n",
      "Epoch 50/100\n",
      "750/750 [==============================] - 13s 17ms/step - loss: 0.2158 - sparse_categorical_accuracy: 0.9192 - val_loss: 0.3103 - val_sparse_categorical_accuracy: 0.8960\n",
      "Epoch 51/100\n",
      "750/750 [==============================] - 13s 17ms/step - loss: 0.2126 - sparse_categorical_accuracy: 0.9201 - val_loss: 0.3143 - val_sparse_categorical_accuracy: 0.8958\n",
      "Epoch 52/100\n",
      "750/750 [==============================] - 12s 16ms/step - loss: 0.2118 - sparse_categorical_accuracy: 0.9204 - val_loss: 0.3097 - val_sparse_categorical_accuracy: 0.9000\n",
      "Epoch 53/100\n",
      "750/750 [==============================] - 12s 16ms/step - loss: 0.2113 - sparse_categorical_accuracy: 0.9197 - val_loss: 0.3214 - val_sparse_categorical_accuracy: 0.8970\n",
      "Epoch 54/100\n",
      "750/750 [==============================] - 13s 17ms/step - loss: 0.2110 - sparse_categorical_accuracy: 0.9212 - val_loss: 0.3139 - val_sparse_categorical_accuracy: 0.8978\n",
      "Epoch 55/100\n",
      "750/750 [==============================] - 13s 17ms/step - loss: 0.2071 - sparse_categorical_accuracy: 0.9219 - val_loss: 0.3233 - val_sparse_categorical_accuracy: 0.8959\n",
      "Epoch 56/100\n",
      "750/750 [==============================] - 12s 16ms/step - loss: 0.2052 - sparse_categorical_accuracy: 0.9221 - val_loss: 0.3149 - val_sparse_categorical_accuracy: 0.8978\n",
      "Epoch 57/100\n",
      "750/750 [==============================] - 13s 17ms/step - loss: 0.2001 - sparse_categorical_accuracy: 0.9231 - val_loss: 0.3384 - val_sparse_categorical_accuracy: 0.8907\n",
      "Epoch 58/100\n",
      "750/750 [==============================] - 12s 16ms/step - loss: 0.2056 - sparse_categorical_accuracy: 0.9237 - val_loss: 0.3395 - val_sparse_categorical_accuracy: 0.8915\n",
      "Epoch 59/100\n",
      "750/750 [==============================] - 12s 16ms/step - loss: 0.2002 - sparse_categorical_accuracy: 0.9239 - val_loss: 0.3350 - val_sparse_categorical_accuracy: 0.8987\n",
      "Epoch 60/100\n",
      "750/750 [==============================] - 12s 16ms/step - loss: 0.2040 - sparse_categorical_accuracy: 0.9249 - val_loss: 0.3166 - val_sparse_categorical_accuracy: 0.8979\n",
      "Epoch 61/100\n",
      "750/750 [==============================] - 12s 16ms/step - loss: 0.2010 - sparse_categorical_accuracy: 0.9239 - val_loss: 0.3444 - val_sparse_categorical_accuracy: 0.8914\n",
      "Epoch 62/100\n",
      "750/750 [==============================] - 12s 16ms/step - loss: 0.2008 - sparse_categorical_accuracy: 0.9248 - val_loss: 0.3271 - val_sparse_categorical_accuracy: 0.8996\n",
      "Epoch 63/100\n",
      "750/750 [==============================] - 12s 16ms/step - loss: 0.1952 - sparse_categorical_accuracy: 0.9260 - val_loss: 0.3278 - val_sparse_categorical_accuracy: 0.8989\n",
      "Epoch 64/100\n",
      "750/750 [==============================] - 12s 16ms/step - loss: 0.2007 - sparse_categorical_accuracy: 0.9249 - val_loss: 0.3272 - val_sparse_categorical_accuracy: 0.8940\n",
      "Epoch 65/100\n",
      "750/750 [==============================] - 12s 16ms/step - loss: 0.1969 - sparse_categorical_accuracy: 0.9262 - val_loss: 0.3261 - val_sparse_categorical_accuracy: 0.8997\n",
      "Epoch 66/100\n",
      "750/750 [==============================] - 12s 16ms/step - loss: 0.1980 - sparse_categorical_accuracy: 0.9259 - val_loss: 0.3453 - val_sparse_categorical_accuracy: 0.8925\n",
      "Epoch 67/100\n",
      "750/750 [==============================] - 12s 16ms/step - loss: 0.1964 - sparse_categorical_accuracy: 0.9264 - val_loss: 0.3408 - val_sparse_categorical_accuracy: 0.8933\n",
      "Epoch 68/100\n",
      "750/750 [==============================] - 12s 16ms/step - loss: 0.1959 - sparse_categorical_accuracy: 0.9274 - val_loss: 0.3451 - val_sparse_categorical_accuracy: 0.8953\n",
      "Epoch 69/100\n",
      "750/750 [==============================] - 12s 16ms/step - loss: 0.1958 - sparse_categorical_accuracy: 0.9264 - val_loss: 0.3344 - val_sparse_categorical_accuracy: 0.9022\n",
      "Epoch 70/100\n",
      "750/750 [==============================] - 12s 16ms/step - loss: 0.1960 - sparse_categorical_accuracy: 0.9276 - val_loss: 0.3301 - val_sparse_categorical_accuracy: 0.8995\n",
      "Epoch 71/100\n",
      "750/750 [==============================] - 12s 17ms/step - loss: 0.1931 - sparse_categorical_accuracy: 0.9284 - val_loss: 0.3329 - val_sparse_categorical_accuracy: 0.8988\n",
      "Epoch 72/100\n",
      "750/750 [==============================] - 12s 16ms/step - loss: 0.1886 - sparse_categorical_accuracy: 0.9275 - val_loss: 0.3422 - val_sparse_categorical_accuracy: 0.8972\n",
      "Epoch 73/100\n",
      "750/750 [==============================] - 13s 17ms/step - loss: 0.1902 - sparse_categorical_accuracy: 0.9285 - val_loss: 0.3344 - val_sparse_categorical_accuracy: 0.9018\n",
      "Epoch 74/100\n",
      "750/750 [==============================] - 13s 18ms/step - loss: 0.1870 - sparse_categorical_accuracy: 0.9287 - val_loss: 0.3369 - val_sparse_categorical_accuracy: 0.8998\n",
      "Epoch 75/100\n",
      "750/750 [==============================] - 13s 17ms/step - loss: 0.1862 - sparse_categorical_accuracy: 0.9306 - val_loss: 0.3516 - val_sparse_categorical_accuracy: 0.8982\n",
      "Epoch 76/100\n",
      "750/750 [==============================] - 13s 17ms/step - loss: 0.1880 - sparse_categorical_accuracy: 0.9290 - val_loss: 0.3371 - val_sparse_categorical_accuracy: 0.8965\n",
      "Epoch 77/100\n",
      "750/750 [==============================] - 12s 17ms/step - loss: 0.1847 - sparse_categorical_accuracy: 0.9305 - val_loss: 0.3507 - val_sparse_categorical_accuracy: 0.9007\n",
      "Epoch 78/100\n",
      "750/750 [==============================] - 12s 16ms/step - loss: 0.1834 - sparse_categorical_accuracy: 0.9314 - val_loss: 0.3419 - val_sparse_categorical_accuracy: 0.9017\n",
      "Epoch 79/100\n",
      "750/750 [==============================] - 13s 17ms/step - loss: 0.1827 - sparse_categorical_accuracy: 0.9310 - val_loss: 0.3465 - val_sparse_categorical_accuracy: 0.8994\n",
      "Epoch 80/100\n",
      "750/750 [==============================] - 12s 17ms/step - loss: 0.1854 - sparse_categorical_accuracy: 0.9313 - val_loss: 0.3609 - val_sparse_categorical_accuracy: 0.8988\n",
      "Epoch 81/100\n",
      "750/750 [==============================] - 12s 16ms/step - loss: 0.1832 - sparse_categorical_accuracy: 0.9319 - val_loss: 0.3423 - val_sparse_categorical_accuracy: 0.9004\n",
      "Epoch 82/100\n",
      "750/750 [==============================] - 12s 16ms/step - loss: 0.1808 - sparse_categorical_accuracy: 0.9328 - val_loss: 0.3635 - val_sparse_categorical_accuracy: 0.8996\n",
      "Epoch 83/100\n",
      "750/750 [==============================] - 12s 16ms/step - loss: 0.1815 - sparse_categorical_accuracy: 0.9315 - val_loss: 0.3662 - val_sparse_categorical_accuracy: 0.8981\n",
      "Epoch 84/100\n",
      "750/750 [==============================] - 12s 16ms/step - loss: 0.1817 - sparse_categorical_accuracy: 0.9311 - val_loss: 0.3621 - val_sparse_categorical_accuracy: 0.8955\n",
      "Epoch 85/100\n",
      "750/750 [==============================] - 12s 16ms/step - loss: 0.1807 - sparse_categorical_accuracy: 0.9336 - val_loss: 0.3557 - val_sparse_categorical_accuracy: 0.8994\n",
      "Epoch 86/100\n",
      "750/750 [==============================] - 13s 17ms/step - loss: 0.1853 - sparse_categorical_accuracy: 0.9308 - val_loss: 0.3430 - val_sparse_categorical_accuracy: 0.9007\n",
      "Epoch 87/100\n",
      "750/750 [==============================] - 13s 17ms/step - loss: 0.1733 - sparse_categorical_accuracy: 0.9362 - val_loss: 0.3469 - val_sparse_categorical_accuracy: 0.9028\n",
      "Epoch 88/100\n",
      "750/750 [==============================] - 14s 19ms/step - loss: 0.1778 - sparse_categorical_accuracy: 0.9331 - val_loss: 0.3523 - val_sparse_categorical_accuracy: 0.8999\n",
      "Epoch 89/100\n",
      "750/750 [==============================] - 15s 20ms/step - loss: 0.1720 - sparse_categorical_accuracy: 0.9348 - val_loss: 0.3746 - val_sparse_categorical_accuracy: 0.8994\n",
      "Epoch 90/100\n",
      "750/750 [==============================] - 14s 18ms/step - loss: 0.1770 - sparse_categorical_accuracy: 0.9331 - val_loss: 0.3709 - val_sparse_categorical_accuracy: 0.8975\n",
      "Epoch 91/100\n",
      "750/750 [==============================] - 15s 20ms/step - loss: 0.1740 - sparse_categorical_accuracy: 0.9356 - val_loss: 0.3603 - val_sparse_categorical_accuracy: 0.9038\n",
      "Epoch 92/100\n",
      "750/750 [==============================] - 14s 18ms/step - loss: 0.1730 - sparse_categorical_accuracy: 0.9355 - val_loss: 0.3790 - val_sparse_categorical_accuracy: 0.8962\n",
      "Epoch 93/100\n",
      "750/750 [==============================] - 14s 19ms/step - loss: 0.1768 - sparse_categorical_accuracy: 0.9340 - val_loss: 0.3662 - val_sparse_categorical_accuracy: 0.8965\n",
      "Epoch 94/100\n",
      "750/750 [==============================] - 14s 18ms/step - loss: 0.1710 - sparse_categorical_accuracy: 0.9352 - val_loss: 0.3633 - val_sparse_categorical_accuracy: 0.8963\n",
      "Epoch 95/100\n",
      "750/750 [==============================] - 13s 17ms/step - loss: 0.1752 - sparse_categorical_accuracy: 0.9347 - val_loss: 0.3506 - val_sparse_categorical_accuracy: 0.9025\n",
      "Epoch 96/100\n",
      "750/750 [==============================] - 13s 17ms/step - loss: 0.1757 - sparse_categorical_accuracy: 0.9356 - val_loss: 0.3613 - val_sparse_categorical_accuracy: 0.9018\n",
      "Epoch 97/100\n",
      "750/750 [==============================] - 14s 18ms/step - loss: 0.1697 - sparse_categorical_accuracy: 0.9368 - val_loss: 0.3506 - val_sparse_categorical_accuracy: 0.9017\n",
      "Epoch 98/100\n",
      "750/750 [==============================] - 12s 16ms/step - loss: 0.1708 - sparse_categorical_accuracy: 0.9372 - val_loss: 0.3536 - val_sparse_categorical_accuracy: 0.8998\n",
      "Epoch 99/100\n",
      "750/750 [==============================] - 12s 17ms/step - loss: 0.1718 - sparse_categorical_accuracy: 0.9348 - val_loss: 0.3852 - val_sparse_categorical_accuracy: 0.8957\n",
      "Epoch 100/100\n",
      "750/750 [==============================] - 13s 17ms/step - loss: 0.1679 - sparse_categorical_accuracy: 0.9375 - val_loss: 0.3638 - val_sparse_categorical_accuracy: 0.9047\n"
     ]
    }
   ],
   "source": [
    "model.compile(loss=tf.keras.losses.SparseCategoricalCrossentropy(from_logits=True),\n",
    "              optimizer='adam',\n",
    "              metrics=['sparse_categorical_accuracy'])\n",
    "history = model.fit(x_train, train_labels,\n",
    "          epochs=100,\n",
    "          batch_size=64, \n",
    "          validation_split=0.2)"
   ]
  },
  {
   "cell_type": "code",
   "execution_count": 48,
   "metadata": {},
   "outputs": [
    {
     "name": "stdout",
     "output_type": "stream",
     "text": [
      "313/313 [==============================] - 1s 3ms/step - loss: 0.3914 - sparse_categorical_accuracy: 0.8978\n",
      "\n",
      "Testing loss: 0.39, acc: 0.90%\n"
     ]
    }
   ],
   "source": [
    "loss, acc = model.evaluate(x_test, test_labels)\n",
    "print('\\nTesting loss: %.2f, acc: %.2f%%'%(loss, acc))"
   ]
  },
  {
   "cell_type": "code",
   "execution_count": 50,
   "metadata": {},
   "outputs": [
    {
     "data": {
      "text/plain": [
       "<matplotlib.legend.Legend at 0x26de0f32f20>"
      ]
     },
     "execution_count": 50,
     "metadata": {},
     "output_type": "execute_result"
    },
    {
     "data": {
      "image/png": "[encoded data removed]",
      "text/plain": [
       "<Figure size 640x480 with 1 Axes>"
      ]
     },
     "metadata": {},
     "output_type": "display_data"
    }
   ],
   "source": [
    "plt.plot(history.history['val_sparse_categorical_accuracy'])\n",
    "plt.plot(history.history['sparse_categorical_accuracy'])\n",
    "plt.legend(['Validation accuracy', 'Training accuracy'])"
   ]
  },
  {
   "cell_type": "code",
   "execution_count": 51,
   "metadata": {},
   "outputs": [
    {
     "data": {
      "text/plain": [
       "<matplotlib.legend.Legend at 0x26dcbd31b70>"
      ]
     },
     "execution_count": 51,
     "metadata": {},
     "output_type": "execute_result"
    },
    {
     "data": {
      "image/png": "[encoded data removed]",
      "text/plain": [
       "<Figure size 640x480 with 1 Axes>"
      ]
     },
     "metadata": {},
     "output_type": "display_data"
    }
   ],
   "source": [
    "plt.plot(history.history['val_loss'])\n",
    "plt.plot(history.history['loss'])\n",
    "plt.legend(['Validation loss', 'Training loss'])"
   ]
  },
  {
   "cell_type": "code",
   "execution_count": 52,
   "metadata": {},
   "outputs": [
    {
     "name": "stdout",
     "output_type": "stream",
     "text": [
      "313/313 [==============================] - 1s 3ms/step\n"
     ]
    }
   ],
   "source": [
    "predicted_classes = model.predict(test_images)\n",
    "predicted_labels = np.argmax(predicted_classes, axis=1)"
   ]
  },
  {
   "cell_type": "code",
   "execution_count": 53,
   "metadata": {},
   "outputs": [
    {
     "data": {
      "image/png": "[encoded data removed]",
      "text/plain": [
       "<Figure size 480x480 with 2 Axes>"
      ]
     },
     "metadata": {},
     "output_type": "display_data"
    }
   ],
   "source": [
    "from sklearn.metrics import confusion_matrix\n",
    "plt.matshow(confusion_matrix(test_labels, predicted_labels), cmap=\"Blues\")\n",
    "plt.colorbar()\n",
    "plt.xticks(range(10))\n",
    "plt.yticks(range(10))\n",
    "plt.xlabel(\"Predicted label\")\n",
    "plt.ylabel(\"True label\");"
   ]
  },
  {
   "cell_type": "code",
   "execution_count": null,
   "metadata": {},
   "outputs": [],
   "source": []
  },
  {
   "cell_type": "code",
   "execution_count": null,
   "metadata": {},
   "outputs": [],
   "source": []
  },
  {
   "cell_type": "code",
   "execution_count": null,
   "metadata": {},
   "outputs": [],
   "source": []
  },
  {
   "cell_type": "code",
   "execution_count": null,
   "metadata": {},
   "outputs": [],
   "source": []
  },
  {
   "cell_type": "code",
   "execution_count": null,
   "metadata": {},
   "outputs": [],
   "source": []
  },
  {
   "cell_type": "markdown",
   "metadata": {},
   "source": [
    "# Ex 2-2"
   ]
  },
  {
   "cell_type": "code",
   "execution_count": 54,
   "metadata": {},
   "outputs": [],
   "source": [
    "import numpy as np\n",
    "from tensorflow import keras\n",
    "from sklearn.datasets import load_iris\n",
    "from sklearn.model_selection import train_test_split\n",
    "from keras.models import Sequential\n",
    "from keras.layers import Dense, Dropout\n",
    "from tensorflow.keras.optimizers import Adam\n",
    "import tensorflow as tf\n",
    "import matplotlib.pyplot as plt\n",
    "from keras.layers import Flatten\n",
    "\n",
    "%matplotlib inline"
   ]
  },
  {
   "cell_type": "code",
   "execution_count": 71,
   "metadata": {},
   "outputs": [],
   "source": [
    "from keras.layers import Conv2D, MaxPooling2D\n",
    "model = Sequential()\n",
    "model.add(Conv2D(32, (3, 3), activation='relu',\n",
    "                        input_shape=(28, 28, 1)))\n",
    "model.add(MaxPooling2D((2, 2)))\n",
    "model.add(Conv2D(64, (3, 3), activation='relu'))\n",
    "model.add(MaxPooling2D((2, 2)))\n",
    "model.add(Conv2D(128, (3, 3), activation='relu'))\n",
    "model.add(MaxPooling2D((2, 2)))\n",
    "model.add(Flatten())\n",
    "# model.add(Dropout(0.3))\n",
    "model.add(Dense(128, activation='relu'))\n",
    "model.add(Dense(10, activation='softmax'))"
   ]
  },
  {
   "cell_type": "code",
   "execution_count": 72,
   "metadata": {},
   "outputs": [
    {
     "name": "stdout",
     "output_type": "stream",
     "text": [
      "Model: \"sequential_8\"\n",
      "_________________________________________________________________\n",
      " Layer (type)                Output Shape              Param #   \n",
      "=================================================================\n",
      " conv2d_5 (Conv2D)           (None, 26, 26, 32)        320       \n",
      "                                                                 \n",
      " max_pooling2d_4 (MaxPoolin  (None, 13, 13, 32)        0         \n",
      " g2D)                                                            \n",
      "                                                                 \n",
      " conv2d_6 (Conv2D)           (None, 11, 11, 64)        18496     \n",
      "                                                                 \n",
      " max_pooling2d_5 (MaxPoolin  (None, 5, 5, 64)          0         \n",
      " g2D)                                                            \n",
      "                                                                 \n",
      " flatten_6 (Flatten)         (None, 1600)              0         \n",
      "                                                                 \n",
      " dense_18 (Dense)            (None, 128)               204928    \n",
      "                                                                 \n",
      " dense_19 (Dense)            (None, 10)                1290      \n",
      "                                                                 \n",
      "=================================================================\n",
      "Total params: 225034 (879.04 KB)\n",
      "Trainable params: 225034 (879.04 KB)\n",
      "Non-trainable params: 0 (0.00 Byte)\n",
      "_________________________________________________________________\n"
     ]
    }
   ],
   "source": [
    "model.summary()"
   ]
  },
  {
   "cell_type": "code",
   "execution_count": 73,
   "metadata": {},
   "outputs": [],
   "source": [
    "model.compile(loss=tf.keras.losses.SparseCategoricalCrossentropy(from_logits=True),\n",
    "              optimizer='adam',\n",
    "              metrics=['sparse_categorical_accuracy'])\n",
    "history = model.fit(x_train, train_labels,\n",
    "          epochs=100,\n",
    "          batch_size=64, \n",
    "          validation_split=0.2)"
   ]
  },
  {
   "cell_type": "code",
   "execution_count": 78,
   "metadata": {},
   "outputs": [
    {
     "name": "stdout",
     "output_type": "stream",
     "text": [
      "Epoch 1/50\n",
      "375/375 [==============================] - 29s 75ms/step - loss: 0.4528 - accuracy: 0.8409 - val_loss: 0.3752 - val_accuracy: 0.8601\n",
      "Epoch 2/50\n",
      "375/375 [==============================] - 29s 77ms/step - loss: 0.2911 - accuracy: 0.8939 - val_loss: 0.3102 - val_accuracy: 0.8904\n",
      "Epoch 3/50\n",
      "375/375 [==============================] - 29s 76ms/step - loss: 0.2354 - accuracy: 0.9136 - val_loss: 0.2713 - val_accuracy: 0.9028\n",
      "Epoch 4/50\n",
      "375/375 [==============================] - 28s 75ms/step - loss: 0.1942 - accuracy: 0.9285 - val_loss: 0.2672 - val_accuracy: 0.9038\n",
      "Epoch 5/50\n",
      "375/375 [==============================] - 29s 77ms/step - loss: 0.1558 - accuracy: 0.9424 - val_loss: 0.2576 - val_accuracy: 0.9115\n",
      "Epoch 6/50\n",
      "375/375 [==============================] - 28s 75ms/step - loss: 0.1268 - accuracy: 0.9537 - val_loss: 0.2798 - val_accuracy: 0.9050\n",
      "Epoch 7/50\n",
      "375/375 [==============================] - 28s 76ms/step - loss: 0.0988 - accuracy: 0.9642 - val_loss: 0.2897 - val_accuracy: 0.9064\n",
      "Epoch 8/50\n",
      "375/375 [==============================] - 28s 75ms/step - loss: 0.0773 - accuracy: 0.9716 - val_loss: 0.3032 - val_accuracy: 0.9103\n",
      "Epoch 9/50\n",
      "375/375 [==============================] - 27s 72ms/step - loss: 0.0580 - accuracy: 0.9802 - val_loss: 0.3311 - val_accuracy: 0.9124\n",
      "Epoch 10/50\n",
      "375/375 [==============================] - 27s 72ms/step - loss: 0.0427 - accuracy: 0.9856 - val_loss: 0.3664 - val_accuracy: 0.9068\n",
      "Epoch 11/50\n",
      "375/375 [==============================] - 27s 72ms/step - loss: 0.0364 - accuracy: 0.9882 - val_loss: 0.3840 - val_accuracy: 0.9090\n",
      "Epoch 12/50\n",
      "375/375 [==============================] - 27s 72ms/step - loss: 0.0265 - accuracy: 0.9917 - val_loss: 0.4325 - val_accuracy: 0.9082\n",
      "Epoch 13/50\n",
      "375/375 [==============================] - 27s 73ms/step - loss: 0.0246 - accuracy: 0.9915 - val_loss: 0.4475 - val_accuracy: 0.9059\n",
      "Epoch 14/50\n",
      "375/375 [==============================] - 27s 72ms/step - loss: 0.0209 - accuracy: 0.9929 - val_loss: 0.4906 - val_accuracy: 0.9086\n",
      "Epoch 15/50\n",
      "375/375 [==============================] - 28s 73ms/step - loss: 0.0169 - accuracy: 0.9944 - val_loss: 0.4940 - val_accuracy: 0.9072\n",
      "Epoch 16/50\n",
      "375/375 [==============================] - 27s 72ms/step - loss: 0.0158 - accuracy: 0.9944 - val_loss: 0.5073 - val_accuracy: 0.9098\n",
      "Epoch 17/50\n",
      "375/375 [==============================] - 27s 72ms/step - loss: 0.0120 - accuracy: 0.9964 - val_loss: 0.5393 - val_accuracy: 0.9103\n",
      "Epoch 18/50\n",
      "375/375 [==============================] - 27s 73ms/step - loss: 0.0116 - accuracy: 0.9964 - val_loss: 0.5797 - val_accuracy: 0.9097\n",
      "Epoch 19/50\n",
      "375/375 [==============================] - 27s 72ms/step - loss: 0.0144 - accuracy: 0.9952 - val_loss: 0.5974 - val_accuracy: 0.9029\n",
      "Epoch 20/50\n",
      "375/375 [==============================] - 27s 72ms/step - loss: 0.0160 - accuracy: 0.9945 - val_loss: 0.6131 - val_accuracy: 0.9000\n",
      "Epoch 21/50\n",
      "375/375 [==============================] - 27s 72ms/step - loss: 0.0078 - accuracy: 0.9977 - val_loss: 0.6018 - val_accuracy: 0.9103\n",
      "Epoch 22/50\n",
      "375/375 [==============================] - 27s 73ms/step - loss: 0.0054 - accuracy: 0.9983 - val_loss: 0.6129 - val_accuracy: 0.9083\n",
      "Epoch 23/50\n",
      "375/375 [==============================] - 28s 75ms/step - loss: 0.0122 - accuracy: 0.9957 - val_loss: 0.6007 - val_accuracy: 0.9075\n",
      "Epoch 24/50\n",
      "375/375 [==============================] - 28s 75ms/step - loss: 0.0079 - accuracy: 0.9972 - val_loss: 0.6772 - val_accuracy: 0.9059\n",
      "Epoch 25/50\n",
      "375/375 [==============================] - 28s 75ms/step - loss: 0.0112 - accuracy: 0.9963 - val_loss: 0.6239 - val_accuracy: 0.9051\n",
      "Epoch 26/50\n",
      "375/375 [==============================] - 28s 74ms/step - loss: 0.0061 - accuracy: 0.9981 - val_loss: 0.6368 - val_accuracy: 0.9094\n",
      "Epoch 27/50\n",
      "375/375 [==============================] - 28s 74ms/step - loss: 0.0049 - accuracy: 0.9985 - val_loss: 0.6951 - val_accuracy: 0.9085\n",
      "Epoch 28/50\n",
      "375/375 [==============================] - 30s 81ms/step - loss: 0.0112 - accuracy: 0.9961 - val_loss: 0.6454 - val_accuracy: 0.9047\n",
      "Epoch 29/50\n",
      "375/375 [==============================] - 28s 75ms/step - loss: 0.0063 - accuracy: 0.9976 - val_loss: 0.6929 - val_accuracy: 0.9075\n",
      "Epoch 30/50\n",
      "375/375 [==============================] - 28s 76ms/step - loss: 0.0100 - accuracy: 0.9967 - val_loss: 0.7181 - val_accuracy: 0.9055\n",
      "Epoch 31/50\n",
      "375/375 [==============================] - 28s 75ms/step - loss: 0.0055 - accuracy: 0.9981 - val_loss: 0.7461 - val_accuracy: 0.9097\n",
      "Epoch 32/50\n",
      "375/375 [==============================] - 28s 76ms/step - loss: 0.0057 - accuracy: 0.9981 - val_loss: 0.7522 - val_accuracy: 0.9064\n",
      "Epoch 33/50\n",
      "375/375 [==============================] - 29s 78ms/step - loss: 0.0068 - accuracy: 0.9980 - val_loss: 0.7316 - val_accuracy: 0.9055\n",
      "Epoch 34/50\n",
      "375/375 [==============================] - 28s 75ms/step - loss: 0.0071 - accuracy: 0.9978 - val_loss: 0.7676 - val_accuracy: 0.9072\n",
      "Epoch 35/50\n",
      "375/375 [==============================] - 27s 73ms/step - loss: 0.0043 - accuracy: 0.9986 - val_loss: 0.7865 - val_accuracy: 0.9036\n",
      "Epoch 36/50\n",
      "375/375 [==============================] - 27s 73ms/step - loss: 0.0063 - accuracy: 0.9979 - val_loss: 0.8004 - val_accuracy: 0.9032\n",
      "Epoch 37/50\n",
      "375/375 [==============================] - 27s 73ms/step - loss: 0.0066 - accuracy: 0.9980 - val_loss: 0.7439 - val_accuracy: 0.9075\n",
      "Epoch 38/50\n",
      "375/375 [==============================] - 27s 73ms/step - loss: 0.0025 - accuracy: 0.9994 - val_loss: 0.7812 - val_accuracy: 0.9114\n",
      "Epoch 39/50\n",
      "375/375 [==============================] - 27s 73ms/step - loss: 0.0014 - accuracy: 0.9996 - val_loss: 0.7986 - val_accuracy: 0.9096\n",
      "Epoch 40/50\n",
      "375/375 [==============================] - 27s 73ms/step - loss: 0.0048 - accuracy: 0.9985 - val_loss: 0.8304 - val_accuracy: 0.9024\n",
      "Epoch 41/50\n",
      "375/375 [==============================] - 29s 78ms/step - loss: 0.0110 - accuracy: 0.9961 - val_loss: 0.7289 - val_accuracy: 0.9087\n",
      "Epoch 42/50\n",
      "375/375 [==============================] - 29s 77ms/step - loss: 0.0062 - accuracy: 0.9983 - val_loss: 0.7734 - val_accuracy: 0.9046\n",
      "Epoch 43/50\n",
      "375/375 [==============================] - 28s 76ms/step - loss: 0.0040 - accuracy: 0.9987 - val_loss: 0.7964 - val_accuracy: 0.9091\n",
      "Epoch 44/50\n",
      "375/375 [==============================] - 31s 84ms/step - loss: 8.3947e-04 - accuracy: 0.9999 - val_loss: 0.8120 - val_accuracy: 0.9112\n",
      "Epoch 45/50\n",
      "375/375 [==============================] - 32s 86ms/step - loss: 0.0019 - accuracy: 0.9995 - val_loss: 0.7845 - val_accuracy: 0.9074\n",
      "Epoch 46/50\n",
      "375/375 [==============================] - 30s 81ms/step - loss: 0.0052 - accuracy: 0.9984 - val_loss: 0.8105 - val_accuracy: 0.9067\n",
      "Epoch 47/50\n",
      "375/375 [==============================] - 31s 83ms/step - loss: 0.0103 - accuracy: 0.9966 - val_loss: 0.8188 - val_accuracy: 0.9031\n",
      "Epoch 48/50\n",
      "375/375 [==============================] - 31s 81ms/step - loss: 0.0066 - accuracy: 0.9980 - val_loss: 0.7508 - val_accuracy: 0.9076\n",
      "Epoch 49/50\n",
      "375/375 [==============================] - 31s 84ms/step - loss: 0.0037 - accuracy: 0.9988 - val_loss: 0.7645 - val_accuracy: 0.9066\n",
      "Epoch 50/50\n",
      "375/375 [==============================] - 28s 75ms/step - loss: 0.0015 - accuracy: 0.9996 - val_loss: 0.8111 - val_accuracy: 0.9110\n"
     ]
    }
   ],
   "source": [
    "from keras.layers import Conv2D, MaxPooling2D\n",
    "model = Sequential()\n",
    "model.add(Conv2D(20, (3, 3), activation='relu',\n",
    "                        input_shape=(28, 28, 1)))\n",
    "model.add(Conv2D(20, (3, 3), activation='relu'))\n",
    "model.add(Flatten())\n",
    "model.add(Dense(128, activation='relu'))\n",
    "model.add(Dense(10, activation='softmax'))\n",
    "model.compile(loss=tf.keras.losses.SparseCategoricalCrossentropy(from_logits=True),\n",
    "              optimizer='adam',\n",
    "              metrics=['accuracy'])\n",
    "history = model.fit(x_train, train_labels,\n",
    "          epochs=50,\n",
    "          batch_size=128, \n",
    "          validation_split=0.2)"
   ]
  },
  {
   "cell_type": "code",
   "execution_count": null,
   "metadata": {},
   "outputs": [],
   "source": []
  }
 ],
 "metadata": {
  "kernelspec": {
   "display_name": "Python 3 (ipykernel)",
   "language": "python",
   "name": "python3"
  },
  "language_info": {
   "codemirror_mode": {
    "name": "ipython",
    "version": 3
   },
   "file_extension": ".py",
   "mimetype": "text/x-python",
   "name": "python",
   "nbconvert_exporter": "python",
   "pygments_lexer": "ipython3",
   "version": "3.10.7"
  }
 },
 "nbformat": 4,
 "nbformat_minor": 4
}
